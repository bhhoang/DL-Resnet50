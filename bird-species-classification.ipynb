{
 "cells": [
  {
   "cell_type": "code",
   "execution_count": 1,
   "id": "c99d4b5b",
   "metadata": {
    "_cell_guid": "b1076dfc-b9ad-4769-8c92-a6c4dae69d19",
    "_uuid": "8f2839f25d086af736a60e9eeb907d3b93b6e0e5",
    "execution": {
     "iopub.execute_input": "2023-11-28T01:55:52.480317Z",
     "iopub.status.busy": "2023-11-28T01:55:52.479943Z",
     "iopub.status.idle": "2023-11-28T01:56:04.522422Z",
     "shell.execute_reply": "2023-11-28T01:56:04.521371Z"
    },
    "papermill": {
     "duration": 12.05093,
     "end_time": "2023-11-28T01:56:04.524958",
     "exception": false,
     "start_time": "2023-11-28T01:55:52.474028",
     "status": "completed"
    },
    "tags": []
   },
   "outputs": [
    {
     "name": "stderr",
     "output_type": "stream",
     "text": [
      "/opt/conda/lib/python3.10/site-packages/scipy/__init__.py:146: UserWarning: A NumPy version >=1.16.5 and <1.23.0 is required for this version of SciPy (detected version 1.24.3\n",
      "  warnings.warn(f\"A NumPy version >={np_minversion} and <{np_maxversion}\"\n"
     ]
    }
   ],
   "source": [
    "import tensorflow as tf\n",
    "from tensorflow.keras import Model\n",
    "from tensorflow.keras.layers import Conv2D,BatchNormalization,MaxPooling2D,Input,GlobalAveragePooling2D,Dense\n",
    "from tensorflow.keras.activations import relu\n",
    "from tensorflow.keras.preprocessing.image import ImageDataGenerator"
   ]
  },
  {
   "cell_type": "markdown",
   "id": "6a270608",
   "metadata": {
    "papermill": {
     "duration": 0.004363,
     "end_time": "2023-11-28T01:56:04.534375",
     "exception": false,
     "start_time": "2023-11-28T01:56:04.530012",
     "status": "completed"
    },
    "tags": []
   },
   "source": [
    "## Residual block"
   ]
  },
  {
   "cell_type": "code",
   "execution_count": 2,
   "id": "820665e9",
   "metadata": {
    "execution": {
     "iopub.execute_input": "2023-11-28T01:56:04.544856Z",
     "iopub.status.busy": "2023-11-28T01:56:04.544309Z",
     "iopub.status.idle": "2023-11-28T01:56:04.554436Z",
     "shell.execute_reply": "2023-11-28T01:56:04.553563Z"
    },
    "papermill": {
     "duration": 0.017653,
     "end_time": "2023-11-28T01:56:04.556474",
     "exception": false,
     "start_time": "2023-11-28T01:56:04.538821",
     "status": "completed"
    },
    "tags": []
   },
   "outputs": [],
   "source": [
    "class Block(Model):\n",
    "    def __init__(self,input_channels,output_channels,use_conv=False,identity_strides=1):\n",
    "        super().__init__()\n",
    "        self.conv1=Conv2D(input_channels,kernel_size=1,strides=identity_strides)\n",
    "        self.conv2=Conv2D(input_channels,kernel_size=3,strides=1,padding='same')\n",
    "        self.conv3=Conv2D(output_channels,kernel_size=1,strides=1,padding='same')\n",
    "        self.conv_identity=None\n",
    "        if use_conv:\n",
    "            self.conv_identity=Conv2D(output_channels,kernel_size=1,strides=identity_strides,padding='same')\n",
    "            \n",
    "        self.bn1=BatchNormalization()\n",
    "        self.bn2=BatchNormalization()\n",
    "        self.bn3=BatchNormalization()\n",
    "        self.bn_identity =BatchNormalization()\n",
    "        \n",
    "    def call(self,X):\n",
    "        #Traditional residuals\n",
    "        Y=self.conv1(X)\n",
    "        Y = self.bn1(Y)\n",
    "        Y= relu(Y)\n",
    "        \n",
    "        Y=self.conv2(Y)\n",
    "        Y = self.bn2(Y)\n",
    "        Y= relu(Y)\n",
    "        \n",
    "        Y=self.conv3(Y)\n",
    "        Y = self.bn3(Y)\n",
    "        Y= relu(Y)\n",
    "        \n",
    "        if self.conv_identity is not None:\n",
    "            X=self.conv_identity(X)\n",
    "            X=self.bn_identity(X)\n",
    "        \n",
    "        Y+=X\n",
    "        Y=relu(Y)\n",
    "        return Y"
   ]
  },
  {
   "cell_type": "code",
   "execution_count": 3,
   "id": "e5925d0b",
   "metadata": {
    "execution": {
     "iopub.execute_input": "2023-11-28T01:56:04.566197Z",
     "iopub.status.busy": "2023-11-28T01:56:04.565913Z",
     "iopub.status.idle": "2023-11-28T01:56:08.284092Z",
     "shell.execute_reply": "2023-11-28T01:56:08.283142Z"
    },
    "papermill": {
     "duration": 3.732488,
     "end_time": "2023-11-28T01:56:08.293266",
     "exception": false,
     "start_time": "2023-11-28T01:56:04.560778",
     "status": "completed"
    },
    "tags": []
   },
   "outputs": [
    {
     "name": "stdout",
     "output_type": "stream",
     "text": [
      "Model: \"sequential\"\n",
      "_________________________________________________________________\n",
      " Layer (type)                Output Shape              Param #   \n",
      "=================================================================\n",
      " conv2d (Conv2D)             (None, 112, 112, 64)      9472      \n",
      "                                                                 \n",
      " batch_normalization (Batch  (None, 112, 112, 64)      256       \n",
      " Normalization)                                                  \n",
      "                                                                 \n",
      " activation (Activation)     (None, 112, 112, 64)      0         \n",
      "                                                                 \n",
      " max_pooling2d (MaxPooling2  (None, 56, 56, 64)        0         \n",
      " D)                                                              \n",
      "                                                                 \n",
      "=================================================================\n",
      "Total params: 9728 (38.00 KB)\n",
      "Trainable params: 9600 (37.50 KB)\n",
      "Non-trainable params: 128 (512.00 Byte)\n",
      "_________________________________________________________________\n"
     ]
    }
   ],
   "source": [
    "base_layer = tf.keras.models.Sequential([\n",
    "    Conv2D(input_shape=(224,224,3),filters=64,kernel_size=7,strides=2,padding='same'),\n",
    "    BatchNormalization(),\n",
    "    tf.keras.layers.Activation(\"relu\"),\n",
    "    MaxPooling2D(pool_size=3, strides=2, padding='same')\n",
    "    \n",
    "])\n",
    "base_layer.summary()"
   ]
  },
  {
   "cell_type": "code",
   "execution_count": 4,
   "id": "bf6a41e4",
   "metadata": {
    "execution": {
     "iopub.execute_input": "2023-11-28T01:56:08.306269Z",
     "iopub.status.busy": "2023-11-28T01:56:08.305919Z",
     "iopub.status.idle": "2023-11-28T01:56:08.310232Z",
     "shell.execute_reply": "2023-11-28T01:56:08.309370Z"
    },
    "papermill": {
     "duration": 0.012927,
     "end_time": "2023-11-28T01:56:08.312092",
     "exception": false,
     "start_time": "2023-11-28T01:56:08.299165",
     "status": "completed"
    },
    "tags": []
   },
   "outputs": [],
   "source": [
    "train_directory='/100-bird-species/train' # train path\n",
    "val_directory='/100-bird-species/valid' # validation path\n",
    "test_directory='/100-bird-species/test' # test path"
   ]
  },
  {
   "cell_type": "code",
   "execution_count": 5,
   "id": "97c0396c",
   "metadata": {
    "execution": {
     "iopub.execute_input": "2023-11-28T01:56:08.325082Z",
     "iopub.status.busy": "2023-11-28T01:56:08.324763Z",
     "iopub.status.idle": "2023-11-28T01:56:19.304880Z",
     "shell.execute_reply": "2023-11-28T01:56:19.304122Z"
    },
    "papermill": {
     "duration": 10.989235,
     "end_time": "2023-11-28T01:56:19.307185",
     "exception": false,
     "start_time": "2023-11-28T01:56:08.317950",
     "status": "completed"
    },
    "tags": []
   },
   "outputs": [
    {
     "name": "stdout",
     "output_type": "stream",
     "text": [
      "Found 84635 images belonging to 525 classes.\n",
      "Found 2625 images belonging to 525 classes.\n",
      "Found 2625 images belonging to 525 classes.\n"
     ]
    }
   ],
   "source": [
    "train_datagen=ImageDataGenerator(\n",
    " rescale=1/255.0, \n",
    " rotation_range=10, \n",
    " zoom_range=0.05, \n",
    " width_shift_range=0.05, \n",
    " height_shift_range=0.05, \n",
    " shear_range=0.05,\n",
    " horizontal_flip=True,\n",
    " fill_mode='nearest')\n",
    "\n",
    "batch_size =256 \n",
    "\n",
    "train_generator = train_datagen.flow_from_directory(\n",
    "    directory=train_directory,\n",
    "    target_size=(224,224),\n",
    "    color_mode='rgb',\n",
    "    batch_size=batch_size,\n",
    "    class_mode='categorical', \n",
    "    shuffle=True, \n",
    "    seed=42\n",
    ")\n",
    "val_datagen=ImageDataGenerator(rescale=1/255.0)\n",
    "valid_generator = val_datagen.flow_from_directory(\n",
    "    directory=val_directory,\n",
    "    target_size=(224, 224),\n",
    "    color_mode=\"rgb\",\n",
    "    batch_size=batch_size,\n",
    "    class_mode=\"categorical\",\n",
    "    shuffle=True,\n",
    "    seed=42\n",
    ")\n",
    "test_datagen = ImageDataGenerator(rescale=1/255.0) \n",
    "test_generator = test_datagen.flow_from_directory(\n",
    "  directory=test_directory,\n",
    "  target_size=(224,224),\n",
    "    color_mode='rgb',\n",
    "    batch_size=batch_size,\n",
    "    class_mode=None,\n",
    "    shuffle=False,\n",
    "    seed=42\n",
    ")"
   ]
  },
  {
   "cell_type": "code",
   "execution_count": 6,
   "id": "73ab9a6c",
   "metadata": {
    "execution": {
     "iopub.execute_input": "2023-11-28T01:56:19.320598Z",
     "iopub.status.busy": "2023-11-28T01:56:19.320307Z",
     "iopub.status.idle": "2023-11-28T01:56:19.625847Z",
     "shell.execute_reply": "2023-11-28T01:56:19.624784Z"
    },
    "papermill": {
     "duration": 0.315402,
     "end_time": "2023-11-28T01:56:19.628768",
     "exception": false,
     "start_time": "2023-11-28T01:56:19.313366",
     "status": "completed"
    },
    "tags": []
   },
   "outputs": [],
   "source": [
    "strategy = tf.distribute.MirroredStrategy()"
   ]
  },
  {
   "cell_type": "markdown",
   "id": "95c00618",
   "metadata": {
    "papermill": {
     "duration": 0.006748,
     "end_time": "2023-11-28T01:56:19.644841",
     "exception": false,
     "start_time": "2023-11-28T01:56:19.638093",
     "status": "completed"
    },
    "tags": []
   },
   "source": [
    "## Resnet 50"
   ]
  },
  {
   "cell_type": "code",
   "execution_count": 7,
   "id": "cd8b7f31",
   "metadata": {
    "execution": {
     "iopub.execute_input": "2023-11-28T01:56:19.662704Z",
     "iopub.status.busy": "2023-11-28T01:56:19.661875Z",
     "iopub.status.idle": "2023-11-28T01:56:19.676919Z",
     "shell.execute_reply": "2023-11-28T01:56:19.676021Z"
    },
    "papermill": {
     "duration": 0.025807,
     "end_time": "2023-11-28T01:56:19.679139",
     "exception": false,
     "start_time": "2023-11-28T01:56:19.653332",
     "status": "completed"
    },
    "tags": []
   },
   "outputs": [],
   "source": [
    "from tensorflow.keras.layers import Input, Conv2D, BatchNormalization, MaxPooling2D, GlobalAveragePooling2D, Dense\n",
    "from tensorflow.keras.models import Model\n",
    "\n",
    "def ResNet50(input_shape=(224, 224, 3), input_tensor=None, classes=1000):\n",
    "    if input_tensor is None:\n",
    "        X_input = Input(shape=input_shape)\n",
    "    else:\n",
    "        if not backend.is_keras_tensor(input_tensor):\n",
    "            X_input = Input(tensor=input_tensor, shape=input_shape)\n",
    "        else:\n",
    "            X_input = input_tensor\n",
    "            \n",
    "    X = Conv2D(filters=64, kernel_size=7, strides=2, padding='same')(X_input)\n",
    "    X = BatchNormalization()(X)\n",
    "    X = relu(X)\n",
    "    X = MaxPooling2D(pool_size=3, strides=2, padding='same')(X)\n",
    "\n",
    "    # Stage 1\n",
    "    X = Block(64, 256, use_conv=True, identity_strides=1)(X)\n",
    "    X = Block(256, 256, use_conv=False)(X)\n",
    "    X = Block(256, 256, use_conv=False)(X)\n",
    "\n",
    "    # Stage 2\n",
    "    X = Block(256, 512, use_conv=True, identity_strides=2)(X)\n",
    "    for _ in range(3):\n",
    "        X = Block(512, 512, use_conv=False)(X)\n",
    "\n",
    "    # Stage 3\n",
    "    X = Block(512, 1024, use_conv=True, identity_strides=2)(X)\n",
    "    for _ in range(5):\n",
    "        X = Block(1024, 1024, use_conv=False)(X)\n",
    "\n",
    "    # Stage 4\n",
    "    X = Block(1024, 2048, use_conv=True, identity_strides=2)(X)\n",
    "    for _ in range(2):\n",
    "        X = Block(2048, 2048, use_conv=False)(X)\n",
    "\n",
    "    X = GlobalAveragePooling2D()(X)\n",
    "    X = Dense(classes, activation='softmax')(X)\n",
    "\n",
    "    model = Model(inputs=X_input, outputs=X, name='ResNet50')\n",
    "    return model\n"
   ]
  },
  {
   "cell_type": "code",
   "execution_count": 8,
   "id": "43cdc5df",
   "metadata": {
    "execution": {
     "iopub.execute_input": "2023-11-28T01:56:19.694697Z",
     "iopub.status.busy": "2023-11-28T01:56:19.693780Z",
     "iopub.status.idle": "2023-11-28T01:56:22.024211Z",
     "shell.execute_reply": "2023-11-28T01:56:22.023184Z"
    },
    "papermill": {
     "duration": 2.340796,
     "end_time": "2023-11-28T01:56:22.026231",
     "exception": false,
     "start_time": "2023-11-28T01:56:19.685435",
     "status": "completed"
    },
    "tags": []
   },
   "outputs": [
    {
     "name": "stdout",
     "output_type": "stream",
     "text": [
      "Model: \"ResNet50\"\n",
      "_________________________________________________________________\n",
      " Layer (type)                Output Shape              Param #   \n",
      "=================================================================\n",
      " input_1 (InputLayer)        [(None, 224, 224, 3)]     0         \n",
      "                                                                 \n",
      " conv2d_1 (Conv2D)           (None, 112, 112, 64)      9472      \n",
      "                                                                 \n",
      " batch_normalization_1 (Bat  (None, 112, 112, 64)      256       \n",
      " chNormalization)                                                \n",
      "                                                                 \n",
      " tf.nn.relu (TFOpLambda)     (None, 112, 112, 64)      0         \n",
      "                                                                 \n",
      " max_pooling2d_1 (MaxPoolin  (None, 56, 56, 64)        0         \n",
      " g2D)                                                            \n",
      "                                                                 \n",
      " block (Block)               (None, 56, 56, 256)       76928     \n",
      "                                                                 \n",
      " block_1 (Block)             (None, 56, 56, 256)       71552     \n",
      "                                                                 \n",
      " block_2 (Block)             (None, 56, 56, 256)       71552     \n",
      "                                                                 \n",
      " block_3 (Block)             (None, 28, 28, 512)       383232    \n",
      "                                                                 \n",
      " block_4 (Block)             (None, 28, 28, 512)       282368    \n",
      "                                                                 \n",
      " block_5 (Block)             (None, 28, 28, 512)       282368    \n",
      "                                                                 \n",
      " block_6 (Block)             (None, 14, 14, 1024)      1520128   \n",
      "                                                                 \n",
      " block_7 (Block)             (None, 14, 14, 1024)      1121792   \n",
      "                                                                 \n",
      " block_8 (Block)             (None, 14, 14, 1024)      1121792   \n",
      "                                                                 \n",
      " block_9 (Block)             (None, 7, 7, 2048)        6054912   \n",
      "                                                                 \n",
      " block_10 (Block)            (None, 7, 7, 2048)        4471808   \n",
      "                                                                 \n",
      " block_11 (Block)            (None, 7, 7, 2048)        4471808   \n",
      "                                                                 \n",
      " global_average_pooling2d (  (None, 2048)              0         \n",
      " GlobalAveragePooling2D)                                         \n",
      "                                                                 \n",
      " dense (Dense)               (None, 525)               1075725   \n",
      "                                                                 \n",
      "=================================================================\n",
      "Total params: 21015693 (80.17 MB)\n",
      "Trainable params: 20973325 (80.01 MB)\n",
      "Non-trainable params: 42368 (165.50 KB)\n",
      "_________________________________________________________________\n"
     ]
    }
   ],
   "source": [
    "with strategy.scope():\n",
    "    model =ResNet50(input_shape=(224,224,3),classes=525)\n",
    "    model.summary()"
   ]
  },
  {
   "cell_type": "code",
   "execution_count": 9,
   "id": "8d18b9c3",
   "metadata": {
    "execution": {
     "iopub.execute_input": "2023-11-28T01:56:22.047839Z",
     "iopub.status.busy": "2023-11-28T01:56:22.047533Z",
     "iopub.status.idle": "2023-11-28T01:56:22.072005Z",
     "shell.execute_reply": "2023-11-28T01:56:22.071220Z"
    },
    "papermill": {
     "duration": 0.037403,
     "end_time": "2023-11-28T01:56:22.073947",
     "exception": false,
     "start_time": "2023-11-28T01:56:22.036544",
     "status": "completed"
    },
    "tags": []
   },
   "outputs": [],
   "source": [
    "with strategy.scope():\n",
    "    lr=0.0001\n",
    "    epochs=30\n",
    "    model.compile(loss='categorical_crossentropy',optimizer=tf.keras.optimizers.legacy.Adam(learning_rate=lr,decay=lr/(epochs/0.5)),metrics=['acc'])"
   ]
  },
  {
   "cell_type": "code",
   "execution_count": 10,
   "id": "d94f2c3f",
   "metadata": {
    "execution": {
     "iopub.execute_input": "2023-11-28T01:56:22.095667Z",
     "iopub.status.busy": "2023-11-28T01:56:22.095352Z",
     "iopub.status.idle": "2023-11-28T12:24:13.697957Z",
     "shell.execute_reply": "2023-11-28T12:24:13.697021Z"
    },
    "papermill": {
     "duration": 37672.433233,
     "end_time": "2023-11-28T12:24:14.517471",
     "exception": false,
     "start_time": "2023-11-28T01:56:22.084238",
     "status": "completed"
    },
    "tags": []
   },
   "outputs": [
    {
     "name": "stdout",
     "output_type": "stream",
     "text": [
      "Epoch 1/30\n",
      "330/330 [==============================] - 1770s 5s/step - loss: 5.1779 - acc: 0.0758 - val_loss: 8.5781 - val_acc: 0.0023\n",
      "Epoch 2/30\n",
      "330/330 [==============================] - 1237s 4s/step - loss: 3.2317 - acc: 0.3079 - val_loss: 2.9216 - val_acc: 0.3543\n",
      "Epoch 3/30\n",
      "330/330 [==============================] - 1224s 4s/step - loss: 2.3004 - acc: 0.4813 - val_loss: 2.2815 - val_acc: 0.4703\n",
      "Epoch 4/30\n",
      "330/330 [==============================] - 1217s 4s/step - loss: 1.7664 - acc: 0.5912 - val_loss: 1.9761 - val_acc: 0.5281\n",
      "Epoch 5/30\n",
      "330/330 [==============================] - 1203s 4s/step - loss: 1.4247 - acc: 0.6655 - val_loss: 2.2048 - val_acc: 0.5234\n",
      "Epoch 6/30\n",
      "330/330 [==============================] - 1221s 4s/step - loss: 1.1807 - acc: 0.7182 - val_loss: 1.7942 - val_acc: 0.5969\n",
      "Epoch 7/30\n",
      "330/330 [==============================] - 1208s 4s/step - loss: 0.9947 - acc: 0.7596 - val_loss: 1.5978 - val_acc: 0.6199\n",
      "Epoch 8/30\n",
      "330/330 [==============================] - 1217s 4s/step - loss: 0.8540 - acc: 0.7907 - val_loss: 1.6542 - val_acc: 0.6250\n",
      "Epoch 9/30\n",
      "330/330 [==============================] - 1232s 4s/step - loss: 0.7441 - acc: 0.8170 - val_loss: 1.3846 - val_acc: 0.6867\n",
      "Epoch 10/30\n",
      "330/330 [==============================] - 1227s 4s/step - loss: 0.6427 - acc: 0.8390 - val_loss: 1.4737 - val_acc: 0.6598\n",
      "Epoch 11/30\n",
      "330/330 [==============================] - 1221s 4s/step - loss: 0.5632 - acc: 0.8597 - val_loss: 0.9902 - val_acc: 0.7496\n",
      "Epoch 12/30\n",
      "330/330 [==============================] - 1220s 4s/step - loss: 0.4931 - acc: 0.8753 - val_loss: 0.9995 - val_acc: 0.7570\n",
      "Epoch 13/30\n",
      "330/330 [==============================] - 1285s 4s/step - loss: 0.4343 - acc: 0.8899 - val_loss: 1.1770 - val_acc: 0.7223\n",
      "Epoch 14/30\n",
      "330/330 [==============================] - 1250s 4s/step - loss: 0.3769 - acc: 0.9043 - val_loss: 0.8425 - val_acc: 0.7895\n",
      "Epoch 15/30\n",
      "330/330 [==============================] - 1259s 4s/step - loss: 0.3404 - acc: 0.9128 - val_loss: 1.1115 - val_acc: 0.7379\n",
      "Epoch 16/30\n",
      "330/330 [==============================] - 1283s 4s/step - loss: 0.2935 - acc: 0.9251 - val_loss: 1.4047 - val_acc: 0.6895\n",
      "Epoch 17/30\n",
      "330/330 [==============================] - 1266s 4s/step - loss: 0.2627 - acc: 0.9323 - val_loss: 0.8750 - val_acc: 0.7859\n",
      "Epoch 18/30\n",
      "330/330 [==============================] - 1260s 4s/step - loss: 0.2293 - acc: 0.9413 - val_loss: 1.0117 - val_acc: 0.7609\n",
      "Epoch 19/30\n",
      "330/330 [==============================] - 1256s 4s/step - loss: 0.2020 - acc: 0.9486 - val_loss: 0.8834 - val_acc: 0.7875\n",
      "Epoch 20/30\n",
      "330/330 [==============================] - 1245s 4s/step - loss: 0.1851 - acc: 0.9529 - val_loss: 0.8434 - val_acc: 0.7875\n",
      "Epoch 21/30\n",
      "330/330 [==============================] - 1213s 4s/step - loss: 0.1686 - acc: 0.9566 - val_loss: 0.8558 - val_acc: 0.7926\n",
      "Epoch 22/30\n",
      "330/330 [==============================] - 1246s 4s/step - loss: 0.1517 - acc: 0.9608 - val_loss: 0.8664 - val_acc: 0.7848\n",
      "Epoch 23/30\n",
      "330/330 [==============================] - 1248s 4s/step - loss: 0.1314 - acc: 0.9663 - val_loss: 0.9240 - val_acc: 0.7871\n",
      "Epoch 24/30\n",
      "330/330 [==============================] - 1242s 4s/step - loss: 0.1206 - acc: 0.9699 - val_loss: 0.8108 - val_acc: 0.8148\n",
      "Epoch 25/30\n",
      "330/330 [==============================] - 1258s 4s/step - loss: 0.1147 - acc: 0.9717 - val_loss: 0.6521 - val_acc: 0.8418\n",
      "Epoch 26/30\n",
      "330/330 [==============================] - 1231s 4s/step - loss: 0.1079 - acc: 0.9721 - val_loss: 1.2752 - val_acc: 0.7207\n",
      "Epoch 27/30\n",
      "330/330 [==============================] - 1254s 4s/step - loss: 0.0987 - acc: 0.9749 - val_loss: 0.8261 - val_acc: 0.8027\n",
      "Epoch 28/30\n",
      "330/330 [==============================] - 1225s 4s/step - loss: 0.0961 - acc: 0.9746 - val_loss: 0.7614 - val_acc: 0.8191\n",
      "Epoch 29/30\n",
      "330/330 [==============================] - 1222s 4s/step - loss: 0.0831 - acc: 0.9789 - val_loss: 1.3507 - val_acc: 0.7160\n",
      "Epoch 30/30\n",
      "330/330 [==============================] - 1222s 4s/step - loss: 0.0808 - acc: 0.9796 - val_loss: 0.9335 - val_acc: 0.8008\n"
     ]
    }
   ],
   "source": [
    "with strategy.scope():\n",
    "    model.fit(train_generator,validation_data=valid_generator,\n",
    "          steps_per_epoch=train_generator.n//train_generator.batch_size,\n",
    "          validation_steps=valid_generator.n//valid_generator.batch_size,\n",
    "          epochs=epochs\n",
    "         )"
   ]
  },
  {
   "cell_type": "code",
   "execution_count": 11,
   "id": "19773362",
   "metadata": {
    "execution": {
     "iopub.execute_input": "2023-11-28T12:24:16.222025Z",
     "iopub.status.busy": "2023-11-28T12:24:16.221619Z",
     "iopub.status.idle": "2023-11-28T12:24:17.271071Z",
     "shell.execute_reply": "2023-11-28T12:24:17.270033Z"
    },
    "papermill": {
     "duration": 1.844124,
     "end_time": "2023-11-28T12:24:17.273753",
     "exception": false,
     "start_time": "2023-11-28T12:24:15.429629",
     "status": "completed"
    },
    "tags": []
   },
   "outputs": [
    {
     "name": "stderr",
     "output_type": "stream",
     "text": [
      "/opt/conda/lib/python3.10/site-packages/keras/src/engine/training.py:3000: UserWarning: You are saving your model as an HDF5 file via `model.save()`. This file format is considered legacy. We recommend using instead the native Keras format, e.g. `model.save('my_model.keras')`.\n",
      "  saving_api.save_model(\n"
     ]
    }
   ],
   "source": [
    "# model.save(\"path/to/location\")"
   ]
  }
 ],
 "metadata": {
  "kaggle": {
   "accelerator": "nvidiaTeslaT4",
   "dataSources": [
    {
     "datasetId": 534640,
     "sourceId": 5468571,
     "sourceType": "datasetVersion"
    }
   ],
   "dockerImageVersionId": 30588,
   "isGpuEnabled": true,
   "isInternetEnabled": true,
   "language": "python",
   "sourceType": "notebook"
  },
  "kernelspec": {
   "display_name": "Python 3",
   "language": "python",
   "name": "python3"
  },
  "language_info": {
   "codemirror_mode": {
    "name": "ipython",
    "version": 3
   },
   "file_extension": ".py",
   "mimetype": "text/x-python",
   "name": "python",
   "nbconvert_exporter": "python",
   "pygments_lexer": "ipython3",
   "version": "3.10.12"
  },
  "papermill": {
   "default_parameters": {},
   "duration": 37713.861732,
   "end_time": "2023-11-28T12:24:23.056527",
   "environment_variables": {},
   "exception": null,
   "input_path": "__notebook__.ipynb",
   "output_path": "__notebook__.ipynb",
   "parameters": {},
   "start_time": "2023-11-28T01:55:49.194795",
   "version": "2.4.0"
  }
 },
 "nbformat": 4,
 "nbformat_minor": 5
}
