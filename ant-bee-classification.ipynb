{
 "cells": [
  {
   "cell_type": "code",
   "execution_count": 1,
   "id": "45f558b6",
   "metadata": {
    "_cell_guid": "b1076dfc-b9ad-4769-8c92-a6c4dae69d19",
    "_uuid": "8f2839f25d086af736a60e9eeb907d3b93b6e0e5",
    "execution": {
     "iopub.execute_input": "2023-11-30T12:47:12.306723Z",
     "iopub.status.busy": "2023-11-30T12:47:12.306382Z",
     "iopub.status.idle": "2023-11-30T12:47:25.911730Z",
     "shell.execute_reply": "2023-11-30T12:47:25.910869Z"
    },
    "papermill": {
     "duration": 13.619816,
     "end_time": "2023-11-30T12:47:25.914290",
     "exception": false,
     "start_time": "2023-11-30T12:47:12.294474",
     "status": "completed"
    },
    "tags": []
   },
   "outputs": [
    {
     "name": "stderr",
     "output_type": "stream",
     "text": [
      "/opt/conda/lib/python3.10/site-packages/scipy/__init__.py:146: UserWarning: A NumPy version >=1.16.5 and <1.23.0 is required for this version of SciPy (detected version 1.24.3\n",
      "  warnings.warn(f\"A NumPy version >={np_minversion} and <{np_maxversion}\"\n"
     ]
    }
   ],
   "source": [
    "import tensorflow as tf\n",
    "from tensorflow.keras import Model\n",
    "from tensorflow.keras.layers import Activation, Dropout,Flatten,Conv2D,BatchNormalization,MaxPooling2D,Input,GlobalAveragePooling2D,Dense\n",
    "from tensorflow.keras.activations import relu\n",
    "from tensorflow.keras.preprocessing.image import ImageDataGenerator\n",
    "import keras\n",
    "from tensorflow.keras.applications.resnet50 import preprocess_input\n",
    "from matplotlib import pyplot"
   ]
  },
  {
   "cell_type": "markdown",
   "metadata": {},
   "source": [
    "# Residual Block"
   ]
  },
  {
   "cell_type": "code",
   "execution_count": 2,
   "id": "28bb8704",
   "metadata": {
    "execution": {
     "iopub.execute_input": "2023-11-30T12:47:25.935926Z",
     "iopub.status.busy": "2023-11-30T12:47:25.935333Z",
     "iopub.status.idle": "2023-11-30T12:47:25.945337Z",
     "shell.execute_reply": "2023-11-30T12:47:25.944455Z"
    },
    "papermill": {
     "duration": 0.022791,
     "end_time": "2023-11-30T12:47:25.947241",
     "exception": false,
     "start_time": "2023-11-30T12:47:25.924450",
     "status": "completed"
    },
    "tags": []
   },
   "outputs": [],
   "source": [
    "class Block(Model):\n",
    "    def __init__(self,input_channels,output_channels,use_conv=False,identity_strides=1):\n",
    "        super().__init__()\n",
    "        self.conv1=Conv2D(input_channels,kernel_size=1,strides=identity_strides)\n",
    "        self.conv2=Conv2D(input_channels,kernel_size=3,strides=1,padding='same')\n",
    "        self.conv3=Conv2D(output_channels,kernel_size=1,strides=1,padding='same')\n",
    "        self.conv_identity=None\n",
    "        if use_conv:\n",
    "            self.conv_identity=Conv2D(output_channels,kernel_size=1,strides=identity_strides,padding='same')\n",
    "            \n",
    "        self.bn1=BatchNormalization()\n",
    "        self.bn2=BatchNormalization()\n",
    "        self.bn3=BatchNormalization()\n",
    "        self.bn_identity =BatchNormalization()\n",
    "        \n",
    "    def call(self,X):\n",
    "        #Traditional residuals\n",
    "        Y=self.conv1(X)\n",
    "        Y = self.bn1(Y)\n",
    "        Y= relu(Y)\n",
    "        \n",
    "        Y=self.conv2(Y)\n",
    "        Y = self.bn2(Y)\n",
    "        Y= relu(Y)\n",
    "        \n",
    "        Y=self.conv3(Y)\n",
    "        Y = self.bn3(Y)\n",
    "        Y= relu(Y)\n",
    "        \n",
    "        if self.conv_identity is not None:\n",
    "            X=self.conv_identity(X)\n",
    "            X=self.bn_identity(X)\n",
    "        \n",
    "        Y+=X\n",
    "        Y=relu(Y)\n",
    "        return Y"
   ]
  },
  {
   "cell_type": "code",
   "execution_count": 3,
   "id": "a0fd1c11",
   "metadata": {
    "execution": {
     "iopub.execute_input": "2023-11-30T12:47:25.966602Z",
     "iopub.status.busy": "2023-11-30T12:47:25.966351Z",
     "iopub.status.idle": "2023-11-30T12:47:30.237396Z",
     "shell.execute_reply": "2023-11-30T12:47:30.236450Z"
    },
    "papermill": {
     "duration": 4.286911,
     "end_time": "2023-11-30T12:47:30.243455",
     "exception": false,
     "start_time": "2023-11-30T12:47:25.956544",
     "status": "completed"
    },
    "tags": []
   },
   "outputs": [
    {
     "name": "stdout",
     "output_type": "stream",
     "text": [
      "Model: \"sequential\"\n",
      "_________________________________________________________________\n",
      " Layer (type)                Output Shape              Param #   \n",
      "=================================================================\n",
      " conv2d (Conv2D)             (None, 112, 112, 64)      9472      \n",
      "                                                                 \n",
      " batch_normalization (Batch  (None, 112, 112, 64)      256       \n",
      " Normalization)                                                  \n",
      "                                                                 \n",
      " activation (Activation)     (None, 112, 112, 64)      0         \n",
      "                                                                 \n",
      " max_pooling2d (MaxPooling2  (None, 56, 56, 64)        0         \n",
      " D)                                                              \n",
      "                                                                 \n",
      "=================================================================\n",
      "Total params: 9728 (38.00 KB)\n",
      "Trainable params: 9600 (37.50 KB)\n",
      "Non-trainable params: 128 (512.00 Byte)\n",
      "_________________________________________________________________\n"
     ]
    }
   ],
   "source": [
    "base_layer = tf.keras.models.Sequential([\n",
    "    Conv2D(input_shape=(224,224,3),filters=64,kernel_size=7,strides=2,padding='same'),\n",
    "    BatchNormalization(),\n",
    "    tf.keras.layers.Activation(\"relu\"),\n",
    "    MaxPooling2D(pool_size=3, strides=2, padding='same')\n",
    "    \n",
    "])\n",
    "base_layer.summary()"
   ]
  },
  {
   "cell_type": "code",
   "execution_count": 4,
   "id": "2b698eef",
   "metadata": {
    "execution": {
     "iopub.execute_input": "2023-11-30T12:47:30.274308Z",
     "iopub.status.busy": "2023-11-30T12:47:30.274017Z",
     "iopub.status.idle": "2023-11-30T12:47:30.278012Z",
     "shell.execute_reply": "2023-11-30T12:47:30.277171Z"
    },
    "papermill": {
     "duration": 0.02192,
     "end_time": "2023-11-30T12:47:30.280349",
     "exception": false,
     "start_time": "2023-11-30T12:47:30.258429",
     "status": "completed"
    },
    "tags": []
   },
   "outputs": [],
   "source": [
    "train_directory='/hymenoptera/hymenoptera/train' # train path\n",
    "val_directory='/hymenoptera/hymenoptera/val' # validation path"
   ]
  },
  {
   "cell_type": "code",
   "execution_count": 5,
   "id": "cf6f8119",
   "metadata": {
    "execution": {
     "iopub.execute_input": "2023-11-30T12:47:30.304849Z",
     "iopub.status.busy": "2023-11-30T12:47:30.304499Z",
     "iopub.status.idle": "2023-11-30T12:47:30.309163Z",
     "shell.execute_reply": "2023-11-30T12:47:30.308259Z"
    },
    "papermill": {
     "duration": 0.017947,
     "end_time": "2023-11-30T12:47:30.311175",
     "exception": false,
     "start_time": "2023-11-30T12:47:30.293228",
     "status": "completed"
    },
    "tags": []
   },
   "outputs": [],
   "source": [
    "batch_size = 4\n",
    "epochs = 25\n",
    "lr = 0.001"
   ]
  },
  {
   "cell_type": "code",
   "execution_count": 6,
   "id": "743b433f",
   "metadata": {
    "execution": {
     "iopub.execute_input": "2023-11-30T12:47:30.334117Z",
     "iopub.status.busy": "2023-11-30T12:47:30.333515Z",
     "iopub.status.idle": "2023-11-30T12:47:30.421330Z",
     "shell.execute_reply": "2023-11-30T12:47:30.420307Z"
    },
    "papermill": {
     "duration": 0.102232,
     "end_time": "2023-11-30T12:47:30.424005",
     "exception": false,
     "start_time": "2023-11-30T12:47:30.321773",
     "status": "completed"
    },
    "tags": []
   },
   "outputs": [
    {
     "name": "stdout",
     "output_type": "stream",
     "text": [
      "Found 244 images belonging to 2 classes.\n",
      "Found 153 images belonging to 2 classes.\n"
     ]
    }
   ],
   "source": [
    "train_datagen=ImageDataGenerator(preprocessing_function=preprocess_input, rotation_range=20,\n",
    "    width_shift_range=0.2,\n",
    "    height_shift_range=0.2,\n",
    "    horizontal_flip=True)\n",
    "#train_datagen.mean = [123.68, 116.779, 103.939]\n",
    "\n",
    "\n",
    "train_generator = train_datagen.flow_from_directory(\n",
    "    directory=train_directory,\n",
    "    target_size=(224,224),\n",
    "    batch_size=batch_size,\n",
    "    class_mode='binary'\n",
    "\n",
    ")\n",
    "val_datagen=ImageDataGenerator(preprocessing_function=preprocess_input)\n",
    "#val_datagen.mean = [123.68, 116.779, 103.939]\n",
    "valid_generator = val_datagen.flow_from_directory(\n",
    "    directory=val_directory,\n",
    "    target_size=(224,224),\n",
    "    batch_size=batch_size,\n",
    "    class_mode='binary'\n",
    ")\n"
   ]
  },
  {
   "cell_type": "code",
   "execution_count": 7,
   "id": "3bc12718",
   "metadata": {
    "execution": {
     "iopub.execute_input": "2023-11-30T12:47:30.457097Z",
     "iopub.status.busy": "2023-11-30T12:47:30.456807Z",
     "iopub.status.idle": "2023-11-30T12:47:30.757481Z",
     "shell.execute_reply": "2023-11-30T12:47:30.756374Z"
    },
    "papermill": {
     "duration": 0.320365,
     "end_time": "2023-11-30T12:47:30.760805",
     "exception": false,
     "start_time": "2023-11-30T12:47:30.440440",
     "status": "completed"
    },
    "tags": []
   },
   "outputs": [],
   "source": [
    "strategy = tf.distribute.MirroredStrategy()"
   ]
  },
  {
   "cell_type": "markdown",
   "metadata": {},
   "source": [
    "# Resnet 50"
   ]
  },
  {
   "cell_type": "code",
   "execution_count": 8,
   "id": "8b2693b4",
   "metadata": {
    "execution": {
     "iopub.execute_input": "2023-11-30T12:47:30.791416Z",
     "iopub.status.busy": "2023-11-30T12:47:30.791011Z",
     "iopub.status.idle": "2023-11-30T12:47:30.806589Z",
     "shell.execute_reply": "2023-11-30T12:47:30.805757Z"
    },
    "papermill": {
     "duration": 0.0315,
     "end_time": "2023-11-30T12:47:30.808591",
     "exception": false,
     "start_time": "2023-11-30T12:47:30.777091",
     "status": "completed"
    },
    "tags": []
   },
   "outputs": [],
   "source": [
    "from tensorflow.keras.layers import Input, Conv2D, BatchNormalization, MaxPooling2D, GlobalAveragePooling2D, Dense\n",
    "from tensorflow.keras.models import Model\n",
    "\n",
    "def ResNet50(input_shape=(224, 224, 3), input_tensor=None, classes=1000):\n",
    "    if input_tensor is None:\n",
    "        X_input = Input(shape=input_shape)\n",
    "    else:\n",
    "        if not backend.is_keras_tensor(input_tensor):\n",
    "            X_input = Input(tensor=input_tensor, shape=input_shape)\n",
    "        else:\n",
    "            X_input = input_tensor\n",
    "            \n",
    "    X = Conv2D(filters=64, kernel_size=7, strides=2, padding='same')(X_input)\n",
    "    X = BatchNormalization()(X)\n",
    "    X = relu(X)\n",
    "    X = MaxPooling2D(pool_size=3, strides=2, padding='same')(X)\n",
    "\n",
    "    # Stage 1\n",
    "    X = Block(64, 256, use_conv=True, identity_strides=1)(X)\n",
    "    X = Block(256, 256, use_conv=False)(X)\n",
    "    X = Block(256, 256, use_conv=False)(X)\n",
    "\n",
    "    # Stage 2\n",
    "    X = Block(256, 512, use_conv=True, identity_strides=2)(X)\n",
    "    for _ in range(3):\n",
    "        X = Block(512, 512, use_conv=False)(X)\n",
    "\n",
    "    # Stage 3\n",
    "    X = Block(512, 1024, use_conv=True, identity_strides=2)(X)\n",
    "    for _ in range(5):\n",
    "        X = Block(1024, 1024, use_conv=False)(X)\n",
    "\n",
    "    # Stage 4\n",
    "    X = Block(1024, 2048, use_conv=True, identity_strides=2)(X)\n",
    "    for _ in range(2):\n",
    "        X = Block(2048, 2048, use_conv=False)(X)\n",
    "\n",
    "    X = GlobalAveragePooling2D()(X)\n",
    "    X = Dense(classes, activation='softmax')(X)\n",
    "\n",
    "    model = Model(inputs=X_input, outputs=X, name='ResNet50')\n",
    "    return model\n"
   ]
  },
  {
   "cell_type": "code",
   "execution_count": 9,
   "id": "43d8f665",
   "metadata": {
    "execution": {
     "iopub.execute_input": "2023-11-30T12:47:30.834111Z",
     "iopub.status.busy": "2023-11-30T12:47:30.833837Z",
     "iopub.status.idle": "2023-11-30T12:47:32.405898Z",
     "shell.execute_reply": "2023-11-30T12:47:32.404999Z"
    },
    "papermill": {
     "duration": 1.586349,
     "end_time": "2023-11-30T12:47:32.408072",
     "exception": false,
     "start_time": "2023-11-30T12:47:30.821723",
     "status": "completed"
    },
    "tags": []
   },
   "outputs": [
    {
     "name": "stdout",
     "output_type": "stream",
     "text": [
      "Model: \"ResNet50\"\n",
      "_________________________________________________________________\n",
      " Layer (type)                Output Shape              Param #   \n",
      "=================================================================\n",
      " input_1 (InputLayer)        [(None, 64, 64, 3)]       0         \n",
      "                                                                 \n",
      " conv2d_1 (Conv2D)           (None, 32, 32, 64)        9472      \n",
      "                                                                 \n",
      " batch_normalization_1 (Bat  (None, 32, 32, 64)        256       \n",
      " chNormalization)                                                \n",
      "                                                                 \n",
      " tf.nn.relu (TFOpLambda)     (None, 32, 32, 64)        0         \n",
      "                                                                 \n",
      " max_pooling2d_1 (MaxPoolin  (None, 16, 16, 64)        0         \n",
      " g2D)                                                            \n",
      "                                                                 \n",
      " block (Block)               (None, 16, 16, 256)       76928     \n",
      "                                                                 \n",
      " block_1 (Block)             (None, 16, 16, 256)       724736    \n",
      "                                                                 \n",
      " block_2 (Block)             (None, 16, 16, 256)       724736    \n",
      "                                                                 \n",
      " block_3 (Block)             (None, 8, 8, 512)         925184    \n",
      "                                                                 \n",
      " block_4 (Block)             (None, 8, 8, 512)         2891264   \n",
      "                                                                 \n",
      " block_5 (Block)             (None, 8, 8, 512)         2891264   \n",
      "                                                                 \n",
      " block_6 (Block)             (None, 8, 8, 512)         2891264   \n",
      "                                                                 \n",
      " block_7 (Block)             (None, 4, 4, 1024)        3685376   \n",
      "                                                                 \n",
      " block_8 (Block)             (None, 4, 4, 1024)        11549696  \n",
      "                                                                 \n",
      " block_9 (Block)             (None, 4, 4, 1024)        11549696  \n",
      "                                                                 \n",
      " block_10 (Block)            (None, 4, 4, 1024)        11549696  \n",
      "                                                                 \n",
      " block_11 (Block)            (None, 4, 4, 1024)        11549696  \n",
      "                                                                 \n",
      " block_12 (Block)            (None, 4, 4, 1024)        11549696  \n",
      "                                                                 \n",
      " block_13 (Block)            (None, 2, 2, 2048)        14710784  \n",
      "                                                                 \n",
      " block_14 (Block)            (None, 2, 2, 2048)        46168064  \n",
      "                                                                 \n",
      " block_15 (Block)            (None, 2, 2, 2048)        46168064  \n",
      "                                                                 \n",
      " global_average_pooling2d (  (None, 2048)              0         \n",
      " GlobalAveragePooling2D)                                         \n",
      "                                                                 \n",
      " dense (Dense)               (None, 100)               204900    \n",
      "                                                                 \n",
      "=================================================================\n",
      "Total params: 179820772 (685.96 MB)\n",
      "Trainable params: 179730276 (685.62 MB)\n",
      "Non-trainable params: 90496 (353.50 KB)\n",
      "_________________________________________________________________\n"
     ]
    }
   ],
   "source": [
    "model = ResNet50(input_shape=(64,64, 3), classes=100)\n",
    "model.summary()"
   ]
  },
  {
   "cell_type": "code",
   "execution_count": 10,
   "id": "1e921e80",
   "metadata": {
    "execution": {
     "iopub.execute_input": "2023-11-30T12:47:32.439829Z",
     "iopub.status.busy": "2023-11-30T12:47:32.439495Z",
     "iopub.status.idle": "2023-11-30T12:47:32.446123Z",
     "shell.execute_reply": "2023-11-30T12:47:32.445278Z"
    },
    "papermill": {
     "duration": 0.024966,
     "end_time": "2023-11-30T12:47:32.448004",
     "exception": false,
     "start_time": "2023-11-30T12:47:32.423038",
     "status": "completed"
    },
    "tags": []
   },
   "outputs": [
    {
     "data": {
      "text/plain": [
       "23"
      ]
     },
     "execution_count": 10,
     "metadata": {},
     "output_type": "execute_result"
    }
   ],
   "source": [
    "len(model.layers)"
   ]
  },
  {
   "cell_type": "code",
   "execution_count": 11,
   "id": "e0b04d1b",
   "metadata": {
    "execution": {
     "iopub.execute_input": "2023-11-30T12:47:32.480350Z",
     "iopub.status.busy": "2023-11-30T12:47:32.479558Z",
     "iopub.status.idle": "2023-11-30T12:47:32.499861Z",
     "shell.execute_reply": "2023-11-30T12:47:32.499109Z"
    },
    "papermill": {
     "duration": 0.038531,
     "end_time": "2023-11-30T12:47:32.501813",
     "exception": false,
     "start_time": "2023-11-30T12:47:32.463282",
     "status": "completed"
    },
    "tags": []
   },
   "outputs": [],
   "source": [
    "# Learning rate scheduler\n",
    "def scheduler(epoch, lr):\n",
    "    if epoch % 7 == 0 and epoch:\n",
    "        return lr * 0.1\n",
    "    return lr\n",
    "\n",
    "lr_callback = keras.callbacks.LearningRateScheduler(scheduler)\n",
    "model.compile(loss='sparse_categorical_crossentropy',optimizer=tf.keras.optimizers.legacy.Adam(learning_rate=lr,decay=lr/(epochs/0.5)),metrics=['acc'])"
   ]
  },
  {
   "cell_type": "code",
   "execution_count": 12,
   "id": "3cdfa96b",
   "metadata": {
    "execution": {
     "iopub.execute_input": "2023-11-30T12:47:32.532714Z",
     "iopub.status.busy": "2023-11-30T12:47:32.532431Z",
     "iopub.status.idle": "2023-11-30T12:47:32.538529Z",
     "shell.execute_reply": "2023-11-30T12:47:32.537692Z"
    },
    "papermill": {
     "duration": 0.023602,
     "end_time": "2023-11-30T12:47:32.540453",
     "exception": false,
     "start_time": "2023-11-30T12:47:32.516851",
     "status": "completed"
    },
    "tags": []
   },
   "outputs": [],
   "source": [
    "def summarize_diagnostics(history):\n",
    " # plot loss\n",
    " pyplot.subplot(211)\n",
    " pyplot.title('Sparse Categorical Crossentropy Loss')\n",
    " pyplot.plot(history.history['loss'], color='blue', label='train')\n",
    " pyplot.plot(history.history['val_loss'], color='orange', label='test')\n",
    " # plot accuracy\n",
    " pyplot.subplot(212)\n",
    " pyplot.title('Classification Accuracy')\n",
    " pyplot.plot(history.history['acc'], color='blue', label='train')\n",
    " pyplot.plot(history.history['val_acc'], color='orange', label='test')\n",
    " # save plot to file\n",
    " filename = 'output'\n",
    " pyplot.savefig('/kaggle/working/'+filename + '_plot.png')\n",
    " pyplot.close()"
   ]
  },
  {
   "cell_type": "code",
   "execution_count": 13,
   "id": "58ffe23c",
   "metadata": {
    "execution": {
     "iopub.execute_input": "2023-11-30T12:47:32.571302Z",
     "iopub.status.busy": "2023-11-30T12:47:32.571038Z",
     "iopub.status.idle": "2023-11-30T12:58:22.334542Z",
     "shell.execute_reply": "2023-11-30T12:58:22.333588Z"
    },
    "papermill": {
     "duration": 649.781409,
     "end_time": "2023-11-30T12:58:22.336878",
     "exception": false,
     "start_time": "2023-11-30T12:47:32.555469",
     "status": "completed"
    },
    "tags": []
   },
   "outputs": [
    {
     "name": "stdout",
     "output_type": "stream",
     "text": [
      "Epoch 1/25\n",
      "61/61 [==============================] - 42s 412ms/step - loss: 2.1096 - acc: 0.5082 - val_loss: 9050.6250 - val_acc: 0.4575 - lr: 0.0010\n",
      "Epoch 2/25\n",
      "61/61 [==============================] - 24s 386ms/step - loss: 1.0836 - acc: 0.5246 - val_loss: 79.5924 - val_acc: 0.5425 - lr: 0.0010\n",
      "Epoch 3/25\n",
      "61/61 [==============================] - 24s 395ms/step - loss: 0.9988 - acc: 0.5287 - val_loss: 63.4584 - val_acc: 0.5425 - lr: 0.0010\n",
      "Epoch 4/25\n",
      "61/61 [==============================] - 25s 402ms/step - loss: 0.9105 - acc: 0.5410 - val_loss: 4.5745 - val_acc: 0.6013 - lr: 0.0010\n",
      "Epoch 5/25\n",
      "61/61 [==============================] - 25s 411ms/step - loss: 0.7573 - acc: 0.5738 - val_loss: 6.7255 - val_acc: 0.6209 - lr: 0.0010\n",
      "Epoch 6/25\n",
      "61/61 [==============================] - 26s 420ms/step - loss: 0.8477 - acc: 0.5943 - val_loss: 1.3820 - val_acc: 0.4706 - lr: 0.0010\n",
      "Epoch 7/25\n",
      "61/61 [==============================] - 26s 420ms/step - loss: 0.7677 - acc: 0.5533 - val_loss: 4.7757 - val_acc: 0.5490 - lr: 0.0010\n",
      "Epoch 8/25\n",
      "61/61 [==============================] - 25s 417ms/step - loss: 0.7061 - acc: 0.5492 - val_loss: 5.8747 - val_acc: 0.4444 - lr: 1.0000e-04\n",
      "Epoch 9/25\n",
      "61/61 [==============================] - 26s 418ms/step - loss: 0.6855 - acc: 0.5984 - val_loss: 1.4998 - val_acc: 0.5229 - lr: 1.0000e-04\n",
      "Epoch 10/25\n",
      "61/61 [==============================] - 26s 418ms/step - loss: 0.6764 - acc: 0.6025 - val_loss: 1.2419 - val_acc: 0.5098 - lr: 1.0000e-04\n",
      "Epoch 11/25\n",
      "61/61 [==============================] - 26s 418ms/step - loss: 0.6788 - acc: 0.6311 - val_loss: 0.7586 - val_acc: 0.5686 - lr: 1.0000e-04\n",
      "Epoch 12/25\n",
      "61/61 [==============================] - 26s 419ms/step - loss: 0.6669 - acc: 0.6107 - val_loss: 0.8846 - val_acc: 0.5359 - lr: 1.0000e-04\n",
      "Epoch 13/25\n",
      "61/61 [==============================] - 26s 419ms/step - loss: 0.6554 - acc: 0.5902 - val_loss: 0.6982 - val_acc: 0.6471 - lr: 1.0000e-04\n",
      "Epoch 14/25\n",
      "61/61 [==============================] - 26s 418ms/step - loss: 0.6455 - acc: 0.6516 - val_loss: 0.8246 - val_acc: 0.6013 - lr: 1.0000e-04\n",
      "Epoch 15/25\n",
      "61/61 [==============================] - 25s 418ms/step - loss: 0.6499 - acc: 0.6721 - val_loss: 0.7119 - val_acc: 0.6144 - lr: 1.0000e-05\n",
      "Epoch 16/25\n",
      "61/61 [==============================] - 26s 418ms/step - loss: 0.6119 - acc: 0.6721 - val_loss: 0.7430 - val_acc: 0.6209 - lr: 1.0000e-05\n",
      "Epoch 17/25\n",
      "61/61 [==============================] - 25s 418ms/step - loss: 0.6355 - acc: 0.6434 - val_loss: 0.7372 - val_acc: 0.6340 - lr: 1.0000e-05\n",
      "Epoch 18/25\n",
      "61/61 [==============================] - 26s 418ms/step - loss: 0.6128 - acc: 0.6475 - val_loss: 0.7621 - val_acc: 0.6340 - lr: 1.0000e-05\n",
      "Epoch 19/25\n",
      "61/61 [==============================] - 25s 417ms/step - loss: 0.6264 - acc: 0.6475 - val_loss: 0.7325 - val_acc: 0.6144 - lr: 1.0000e-05\n",
      "Epoch 20/25\n",
      "61/61 [==============================] - 25s 417ms/step - loss: 0.5952 - acc: 0.6844 - val_loss: 0.7257 - val_acc: 0.6275 - lr: 1.0000e-05\n",
      "Epoch 21/25\n",
      "61/61 [==============================] - 25s 417ms/step - loss: 0.6005 - acc: 0.6680 - val_loss: 0.6990 - val_acc: 0.6340 - lr: 1.0000e-05\n",
      "Epoch 22/25\n",
      "61/61 [==============================] - 25s 417ms/step - loss: 0.6462 - acc: 0.6434 - val_loss: 0.7016 - val_acc: 0.6144 - lr: 1.0000e-06\n",
      "Epoch 23/25\n",
      "61/61 [==============================] - 25s 417ms/step - loss: 0.6097 - acc: 0.6926 - val_loss: 0.6941 - val_acc: 0.6144 - lr: 1.0000e-06\n",
      "Epoch 24/25\n",
      "61/61 [==============================] - 25s 417ms/step - loss: 0.6084 - acc: 0.6762 - val_loss: 0.6957 - val_acc: 0.6013 - lr: 1.0000e-06\n",
      "Epoch 25/25\n",
      "61/61 [==============================] - 25s 417ms/step - loss: 0.6038 - acc: 0.6598 - val_loss: 0.7012 - val_acc: 0.6078 - lr: 1.0000e-06\n"
     ]
    }
   ],
   "source": [
    "history = model.fit(\n",
    "    train_generator,\n",
    "    epochs=25,\n",
    "    validation_data=valid_generator,\n",
    "    callbacks=[lr_callback]\n",
    ")\n"
   ]
  },
  {
   "cell_type": "code",
   "execution_count": 14,
   "id": "efd19a59",
   "metadata": {
    "execution": {
     "iopub.execute_input": "2023-11-30T12:58:22.629151Z",
     "iopub.status.busy": "2023-11-30T12:58:22.628282Z",
     "iopub.status.idle": "2023-11-30T12:58:22.634521Z",
     "shell.execute_reply": "2023-11-30T12:58:22.633647Z"
    },
    "papermill": {
     "duration": 0.149838,
     "end_time": "2023-11-30T12:58:22.636560",
     "exception": false,
     "start_time": "2023-11-30T12:58:22.486722",
     "status": "completed"
    },
    "tags": []
   },
   "outputs": [
    {
     "data": {
      "text/plain": [
       "dict_keys(['loss', 'acc', 'val_loss', 'val_acc', 'lr'])"
      ]
     },
     "execution_count": 14,
     "metadata": {},
     "output_type": "execute_result"
    }
   ],
   "source": [
    "history.history.keys()"
   ]
  },
  {
   "cell_type": "code",
   "execution_count": 15,
   "id": "55568b62",
   "metadata": {
    "execution": {
     "iopub.execute_input": "2023-11-30T12:58:22.919469Z",
     "iopub.status.busy": "2023-11-30T12:58:22.919173Z",
     "iopub.status.idle": "2023-11-30T12:58:22.926989Z",
     "shell.execute_reply": "2023-11-30T12:58:22.926119Z"
    },
    "papermill": {
     "duration": 0.151875,
     "end_time": "2023-11-30T12:58:22.929014",
     "exception": false,
     "start_time": "2023-11-30T12:58:22.777139",
     "status": "completed"
    },
    "tags": []
   },
   "outputs": [
    {
     "data": {
      "text/plain": [
       "{'loss': [2.1095685958862305,\n",
       "  1.0835610628128052,\n",
       "  0.9988317489624023,\n",
       "  0.9105389714241028,\n",
       "  0.7572972178459167,\n",
       "  0.8477193713188171,\n",
       "  0.7677229046821594,\n",
       "  0.7061004638671875,\n",
       "  0.6855441331863403,\n",
       "  0.676444947719574,\n",
       "  0.6788176894187927,\n",
       "  0.6669068932533264,\n",
       "  0.6554160118103027,\n",
       "  0.6455101370811462,\n",
       "  0.649883508682251,\n",
       "  0.6118924021720886,\n",
       "  0.6355034112930298,\n",
       "  0.612800121307373,\n",
       "  0.6263701915740967,\n",
       "  0.5952010750770569,\n",
       "  0.6004722714424133,\n",
       "  0.6461640000343323,\n",
       "  0.6096609234809875,\n",
       "  0.6084254384040833,\n",
       "  0.6037726998329163],\n",
       " 'acc': [0.5081967115402222,\n",
       "  0.5245901346206665,\n",
       "  0.5286885499954224,\n",
       "  0.5409836173057556,\n",
       "  0.5737704634666443,\n",
       "  0.5942623019218445,\n",
       "  0.5532786846160889,\n",
       "  0.5491803288459778,\n",
       "  0.5983606576919556,\n",
       "  0.6024590134620667,\n",
       "  0.631147563457489,\n",
       "  0.6106557250022888,\n",
       "  0.5901639461517334,\n",
       "  0.6516393423080444,\n",
       "  0.6721311211585999,\n",
       "  0.6721311211585999,\n",
       "  0.6434426307678223,\n",
       "  0.6475409865379333,\n",
       "  0.6475409865379333,\n",
       "  0.6844262480735779,\n",
       "  0.6680327653884888,\n",
       "  0.6434426307678223,\n",
       "  0.6926229596138,\n",
       "  0.6762295365333557,\n",
       "  0.6598360538482666],\n",
       " 'val_loss': [9050.625,\n",
       "  79.59236907958984,\n",
       "  63.45835876464844,\n",
       "  4.574528217315674,\n",
       "  6.725545883178711,\n",
       "  1.3820468187332153,\n",
       "  4.775696277618408,\n",
       "  5.874706268310547,\n",
       "  1.4998325109481812,\n",
       "  1.2418535947799683,\n",
       "  0.7586334943771362,\n",
       "  0.8846243023872375,\n",
       "  0.6981877088546753,\n",
       "  0.8246212601661682,\n",
       "  0.7118588089942932,\n",
       "  0.7430455088615417,\n",
       "  0.7371538281440735,\n",
       "  0.7620640397071838,\n",
       "  0.7325153946876526,\n",
       "  0.7256892323493958,\n",
       "  0.699042797088623,\n",
       "  0.7015841603279114,\n",
       "  0.6941429972648621,\n",
       "  0.6957237720489502,\n",
       "  0.7011732459068298],\n",
       " 'val_acc': [0.4575163424015045,\n",
       "  0.5424836874008179,\n",
       "  0.5424836874008179,\n",
       "  0.601307213306427,\n",
       "  0.6209150552749634,\n",
       "  0.47058823704719543,\n",
       "  0.5490196347236633,\n",
       "  0.4444444477558136,\n",
       "  0.5228758454322815,\n",
       "  0.5098039507865906,\n",
       "  0.5686274766921997,\n",
       "  0.5359477400779724,\n",
       "  0.6470588445663452,\n",
       "  0.601307213306427,\n",
       "  0.6143791079521179,\n",
       "  0.6209150552749634,\n",
       "  0.6339869499206543,\n",
       "  0.6339869499206543,\n",
       "  0.6143791079521179,\n",
       "  0.6274510025978088,\n",
       "  0.6339869499206543,\n",
       "  0.6143791079521179,\n",
       "  0.6143791079521179,\n",
       "  0.601307213306427,\n",
       "  0.6078431606292725],\n",
       " 'lr': [0.001,\n",
       "  0.001,\n",
       "  0.001,\n",
       "  0.001,\n",
       "  0.001,\n",
       "  0.001,\n",
       "  0.001,\n",
       "  0.000100000005,\n",
       "  0.000100000005,\n",
       "  0.000100000005,\n",
       "  0.000100000005,\n",
       "  0.000100000005,\n",
       "  0.000100000005,\n",
       "  0.000100000005,\n",
       "  1.0000001e-05,\n",
       "  1.0000001e-05,\n",
       "  1.0000001e-05,\n",
       "  1.0000001e-05,\n",
       "  1.0000001e-05,\n",
       "  1.0000001e-05,\n",
       "  1.0000001e-05,\n",
       "  1.0000001e-06,\n",
       "  1.0000001e-06,\n",
       "  1.0000001e-06,\n",
       "  1.0000001e-06]}"
      ]
     },
     "execution_count": 15,
     "metadata": {},
     "output_type": "execute_result"
    }
   ],
   "source": [
    "history.history"
   ]
  },
  {
   "cell_type": "code",
   "execution_count": 16,
   "id": "09596028",
   "metadata": {
    "execution": {
     "iopub.execute_input": "2023-11-30T12:58:23.208279Z",
     "iopub.status.busy": "2023-11-30T12:58:23.207920Z",
     "iopub.status.idle": "2023-11-30T12:58:23.907434Z",
     "shell.execute_reply": "2023-11-30T12:58:23.906492Z"
    },
    "papermill": {
     "duration": 0.844685,
     "end_time": "2023-11-30T12:58:23.909423",
     "exception": false,
     "start_time": "2023-11-30T12:58:23.064738",
     "status": "completed"
    },
    "tags": []
   },
   "outputs": [
    {
     "data": {
      "image/png": "[encoded data removed]",
      "text/plain": [
       "<Figure size 1000x1000 with 2 Axes>"
      ]
     },
     "metadata": {},
     "output_type": "display_data"
    }
   ],
   "source": [
    " pyplot.figure(figsize=(10,10))\n",
    " pyplot.subplot(211)\n",
    " pyplot.title('Sparse Categorical Crossentropy Loss')\n",
    " pyplot.plot(history.history['loss'], color='blue', label='train')\n",
    " pyplot.plot(history.history['val_loss'], color='orange', label='test')\n",
    " # plot accuracy\n",
    " pyplot.subplot(212)\n",
    " pyplot.title('Classification Accuracy')\n",
    " pyplot.plot(history.history['acc'], color='blue', label='train')\n",
    " pyplot.plot(history.history['val_acc'], color='orange', label='test')\n",
    " # save plot to file\n",
    " filename = 'output1'\n",
    " pyplot.savefig('/kaggle/working/'+filename + '_plot.png')\n",
    " pyplot.show()"
   ]
  },
  {
   "cell_type": "markdown",
   "id": "671c0257",
   "metadata": {
    "papermill": {
     "duration": 0.138849,
     "end_time": "2023-11-30T12:58:24.186565",
     "exception": false,
     "start_time": "2023-11-30T12:58:24.047716",
     "status": "completed"
    },
    "tags": []
   },
   "source": [
    "## Transfer learning"
   ]
  },
  {
   "cell_type": "code",
   "execution_count": 17,
   "id": "fb27853c",
   "metadata": {
    "execution": {
     "iopub.execute_input": "2023-11-30T12:58:24.467319Z",
     "iopub.status.busy": "2023-11-30T12:58:24.466963Z",
     "iopub.status.idle": "2023-11-30T13:00:39.037949Z",
     "shell.execute_reply": "2023-11-30T13:00:39.037117Z"
    },
    "papermill": {
     "duration": 134.713545,
     "end_time": "2023-11-30T13:00:39.040142",
     "exception": false,
     "start_time": "2023-11-30T12:58:24.326597",
     "status": "completed"
    },
    "tags": []
   },
   "outputs": [
    {
     "name": "stdout",
     "output_type": "stream",
     "text": [
      "Found 244 images belonging to 2 classes.\n",
      "Found 153 images belonging to 2 classes.\n",
      "Downloading data from https://storage.googleapis.com/tensorflow/keras-applications/resnet/resnet50_weights_tf_dim_ordering_tf_kernels_notop.h5\n",
      "94765736/94765736 [==============================] - 0s 0us/step\n",
      "Epoch 1/25\n",
      "61/61 [==============================] - 10s 103ms/step - loss: 1.7015 - accuracy: 0.8566 - val_loss: 2.3947 - val_accuracy: 0.9281 - lr: 0.0100\n",
      "Epoch 2/25\n",
      "61/61 [==============================] - 5s 81ms/step - loss: 1.2940 - accuracy: 0.9139 - val_loss: 1.6644 - val_accuracy: 0.9412 - lr: 0.0100\n",
      "Epoch 3/25\n",
      "61/61 [==============================] - 5s 81ms/step - loss: 0.8522 - accuracy: 0.9467 - val_loss: 3.0808 - val_accuracy: 0.9150 - lr: 0.0100\n",
      "Epoch 4/25\n",
      "61/61 [==============================] - 5s 82ms/step - loss: 0.6371 - accuracy: 0.9713 - val_loss: 2.3075 - val_accuracy: 0.9281 - lr: 0.0100\n",
      "Epoch 5/25\n",
      "61/61 [==============================] - 5s 82ms/step - loss: 0.3961 - accuracy: 0.9590 - val_loss: 1.9076 - val_accuracy: 0.9477 - lr: 0.0100\n",
      "Epoch 6/25\n",
      "61/61 [==============================] - 5s 85ms/step - loss: 4.6590e-04 - accuracy: 1.0000 - val_loss: 1.8515 - val_accuracy: 0.9542 - lr: 0.0100\n",
      "Epoch 7/25\n",
      "61/61 [==============================] - 5s 83ms/step - loss: 0.1197 - accuracy: 0.9754 - val_loss: 2.3104 - val_accuracy: 0.9412 - lr: 0.0100\n",
      "Epoch 8/25\n",
      "61/61 [==============================] - 5s 81ms/step - loss: 0.2199 - accuracy: 0.9795 - val_loss: 1.8512 - val_accuracy: 0.9412 - lr: 1.0000e-03\n",
      "Epoch 9/25\n",
      "61/61 [==============================] - 5s 82ms/step - loss: 0.0972 - accuracy: 0.9877 - val_loss: 1.9229 - val_accuracy: 0.9412 - lr: 1.0000e-03\n",
      "Epoch 10/25\n",
      "61/61 [==============================] - 5s 81ms/step - loss: 0.0119 - accuracy: 0.9959 - val_loss: 2.0444 - val_accuracy: 0.9412 - lr: 1.0000e-03\n",
      "Epoch 11/25\n",
      "61/61 [==============================] - 5s 82ms/step - loss: 0.1482 - accuracy: 0.9836 - val_loss: 1.8424 - val_accuracy: 0.9412 - lr: 1.0000e-03\n",
      "Epoch 12/25\n",
      "61/61 [==============================] - 5s 83ms/step - loss: 0.0133 - accuracy: 0.9959 - val_loss: 1.9012 - val_accuracy: 0.9412 - lr: 1.0000e-03\n",
      "Epoch 13/25\n",
      "61/61 [==============================] - 5s 83ms/step - loss: 0.0176 - accuracy: 0.9959 - val_loss: 2.0458 - val_accuracy: 0.9412 - lr: 1.0000e-03\n",
      "Epoch 14/25\n",
      "61/61 [==============================] - 5s 81ms/step - loss: 0.1466 - accuracy: 0.9959 - val_loss: 1.9245 - val_accuracy: 0.9412 - lr: 1.0000e-03\n",
      "Epoch 15/25\n",
      "61/61 [==============================] - 5s 81ms/step - loss: 0.2820 - accuracy: 0.9836 - val_loss: 1.9163 - val_accuracy: 0.9412 - lr: 1.0000e-04\n",
      "Epoch 16/25\n",
      "61/61 [==============================] - 5s 81ms/step - loss: 0.0421 - accuracy: 0.9959 - val_loss: 1.9068 - val_accuracy: 0.9412 - lr: 1.0000e-04\n",
      "Epoch 17/25\n",
      "61/61 [==============================] - 5s 83ms/step - loss: 0.0743 - accuracy: 0.9959 - val_loss: 1.8906 - val_accuracy: 0.9412 - lr: 1.0000e-04\n",
      "Epoch 18/25\n",
      "61/61 [==============================] - 5s 85ms/step - loss: 5.4096e-06 - accuracy: 1.0000 - val_loss: 1.8884 - val_accuracy: 0.9412 - lr: 1.0000e-04\n",
      "Epoch 19/25\n",
      "61/61 [==============================] - 5s 83ms/step - loss: 0.0806 - accuracy: 0.9959 - val_loss: 1.8991 - val_accuracy: 0.9412 - lr: 1.0000e-04\n",
      "Epoch 20/25\n",
      "61/61 [==============================] - 5s 84ms/step - loss: 0.0237 - accuracy: 0.9959 - val_loss: 1.8916 - val_accuracy: 0.9412 - lr: 1.0000e-04\n",
      "Epoch 21/25\n",
      "61/61 [==============================] - 5s 84ms/step - loss: 0.0596 - accuracy: 0.9918 - val_loss: 1.9065 - val_accuracy: 0.9412 - lr: 1.0000e-04\n",
      "Epoch 22/25\n",
      "61/61 [==============================] - 5s 82ms/step - loss: 1.2074e-05 - accuracy: 1.0000 - val_loss: 1.9066 - val_accuracy: 0.9412 - lr: 1.0000e-05\n",
      "Epoch 23/25\n",
      "61/61 [==============================] - 5s 82ms/step - loss: 0.0460 - accuracy: 0.9877 - val_loss: 1.9054 - val_accuracy: 0.9412 - lr: 1.0000e-05\n",
      "Epoch 24/25\n",
      "61/61 [==============================] - 5s 84ms/step - loss: 0.0148 - accuracy: 0.9959 - val_loss: 1.9044 - val_accuracy: 0.9412 - lr: 1.0000e-05\n",
      "Epoch 25/25\n",
      "61/61 [==============================] - 5s 83ms/step - loss: 0.0692 - accuracy: 0.9918 - val_loss: 1.9044 - val_accuracy: 0.9412 - lr: 1.0000e-05\n"
     ]
    }
   ],
   "source": [
    "import os\n",
    "import numpy as np\n",
    "import tensorflow as tf\n",
    "from tensorflow.keras.preprocessing.image import ImageDataGenerator\n",
    "from tensorflow.keras.applications import ResNet50\n",
    "from tensorflow.keras.layers import Dense\n",
    "from tensorflow.keras.models import Model\n",
    "from tensorflow.keras.optimizers import SGD\n",
    "from tensorflow.keras.callbacks import LearningRateScheduler\n",
    "# Load the TensorBoard notebook extension\n",
    "%load_ext tensorboard\n",
    "import tensorflow as tf\n",
    "import datetime\n",
    "\n",
    "# Data paths\n",
    "data_dir = '/kaggle/input/hymenoptera/hymenoptera'\n",
    "train_data_dir = os.path.join(data_dir, 'train')\n",
    "val_data_dir = os.path.join(data_dir, 'val')\n",
    "\n",
    "# Data preprocessing\n",
    "train_datagen = ImageDataGenerator(\n",
    "    preprocessing_function=tf.keras.applications.resnet50.preprocess_input,\n",
    "    rotation_range=20,\n",
    "    width_shift_range=0.2,\n",
    "    height_shift_range=0.2,\n",
    "    horizontal_flip=True\n",
    ")\n",
    "\n",
    "val_datagen = ImageDataGenerator(\n",
    "    preprocessing_function=tf.keras.applications.resnet50.preprocess_input\n",
    ")\n",
    "\n",
    "train_generator = train_datagen.flow_from_directory(\n",
    "    train_data_dir,\n",
    "    target_size=(224, 224),\n",
    "    batch_size=4,\n",
    "    class_mode='binary'\n",
    ")\n",
    "\n",
    "val_generator = val_datagen.flow_from_directory(\n",
    "    val_data_dir,\n",
    "    target_size=(224, 224),\n",
    "    batch_size=4,\n",
    "    class_mode='binary'\n",
    ")\n",
    "\n",
    "# Model setup\n",
    "base_model = ResNet50(weights='imagenet', include_top=False, input_shape=(224, 224, 3))\n",
    "base_model.trainable = False  # Freeze the base model\n",
    "\n",
    "x = tf.keras.layers.GlobalAveragePooling2D()(base_model.output)\n",
    "x = Dense(2, activation='softmax')(x)  # New top layer for our task\n",
    "model = Model(inputs=base_model.input, outputs=x)\n",
    "\n",
    "# Compile the model\n",
    "model.compile(optimizer=SGD(lr=0.001, momentum=0.9),\n",
    "              loss='sparse_categorical_crossentropy',\n",
    "              metrics=['accuracy'])\n",
    "\n",
    "# Learning rate scheduler\n",
    "def scheduler(epoch, lr):\n",
    "    if epoch % 7 == 0 and epoch:\n",
    "        return lr * 0.1\n",
    "    return lr\n",
    "\n",
    "lr_callback = LearningRateScheduler(scheduler)\n",
    "log_dir = \"logs/fit/\" + datetime.datetime.now().strftime(\"%Y%m%d-%H%M%S\")\n",
    "tensorboard_callback = tf.keras.callbacks.TensorBoard(log_dir=log_dir, histogram_freq=1)\n",
    "\n",
    "# Train the model\n",
    "history = model.fit(\n",
    "    train_generator,\n",
    "    epochs=25,\n",
    "    validation_data=val_generator,\n",
    "    callbacks=[lr_callback]\n",
    ")\n"
   ]
  },
  {
   "cell_type": "code",
   "execution_count": 18,
   "id": "32d03a58",
   "metadata": {
    "execution": {
     "iopub.execute_input": "2023-11-30T13:00:39.588651Z",
     "iopub.status.busy": "2023-11-30T13:00:39.587883Z",
     "iopub.status.idle": "2023-11-30T13:00:40.219615Z",
     "shell.execute_reply": "2023-11-30T13:00:40.218706Z"
    },
    "papermill": {
     "duration": 0.908813,
     "end_time": "2023-11-30T13:00:40.221801",
     "exception": false,
     "start_time": "2023-11-30T13:00:39.312988",
     "status": "completed"
    },
    "tags": []
   },
   "outputs": [
    {
     "data": {
      "image/png": "[encoded data removed]",
      "text/plain": [
       "<Figure size 1000x1000 with 2 Axes>"
      ]
     },
     "metadata": {},
     "output_type": "display_data"
    }
   ],
   "source": [
    " pyplot.figure(figsize=(10,10))\n",
    " pyplot.subplot(211)\n",
    " pyplot.title('Sparse Categorical Crossentropy Loss')\n",
    " pyplot.plot(history.history['loss'], color='blue', label='train')\n",
    " pyplot.plot(history.history['val_loss'], color='orange', label='test')\n",
    " # plot accuracy\n",
    " pyplot.subplot(212)\n",
    " pyplot.title('Classification Accuracy')\n",
    " pyplot.plot(history.history['accuracy'], color='blue', label='train')\n",
    " pyplot.plot(history.history['val_accuracy'], color='orange', label='test')\n",
    " # save plot to file\n",
    " filename = 'output2'\n",
    " pyplot.savefig('/kaggle/working/'+filename + '_plot.png')\n",
    " pyplot.show()"
   ]
  },
  {
   "cell_type": "code",
   "execution_count": 19,
   "id": "4ba66d6f",
   "metadata": {
    "execution": {
     "iopub.execute_input": "2023-11-30T13:00:40.752873Z",
     "iopub.status.busy": "2023-11-30T13:00:40.752148Z",
     "iopub.status.idle": "2023-11-30T13:00:40.757946Z",
     "shell.execute_reply": "2023-11-30T13:00:40.757068Z"
    },
    "papermill": {
     "duration": 0.273937,
     "end_time": "2023-11-30T13:00:40.759941",
     "exception": false,
     "start_time": "2023-11-30T13:00:40.486004",
     "status": "completed"
    },
    "tags": []
   },
   "outputs": [
    {
     "data": {
      "text/plain": [
       "dict_keys(['loss', 'accuracy', 'val_loss', 'val_accuracy', 'lr'])"
      ]
     },
     "execution_count": 19,
     "metadata": {},
     "output_type": "execute_result"
    }
   ],
   "source": [
    "history.history.keys()"
   ]
  },
  {
   "cell_type": "code",
   "execution_count": 20,
   "id": "28cd1170",
   "metadata": {
    "execution": {
     "iopub.execute_input": "2023-11-30T13:00:41.297285Z",
     "iopub.status.busy": "2023-11-30T13:00:41.296401Z",
     "iopub.status.idle": "2023-11-30T13:00:41.304657Z",
     "shell.execute_reply": "2023-11-30T13:00:41.303746Z"
    },
    "papermill": {
     "duration": 0.284938,
     "end_time": "2023-11-30T13:00:41.306779",
     "exception": false,
     "start_time": "2023-11-30T13:00:41.021841",
     "status": "completed"
    },
    "tags": []
   },
   "outputs": [
    {
     "data": {
      "text/plain": [
       "{'loss': [1.7014527320861816,\n",
       "  1.2939790487289429,\n",
       "  0.8522140383720398,\n",
       "  0.6370785236358643,\n",
       "  0.3961315155029297,\n",
       "  0.00046590069541707635,\n",
       "  0.11967756599187851,\n",
       "  0.21993528306484222,\n",
       "  0.09722109138965607,\n",
       "  0.011935098096728325,\n",
       "  0.14822666347026825,\n",
       "  0.013315136544406414,\n",
       "  0.017600446939468384,\n",
       "  0.14658130705356598,\n",
       "  0.2820262908935547,\n",
       "  0.042121246457099915,\n",
       "  0.07428814470767975,\n",
       "  5.4096249186841305e-06,\n",
       "  0.08062628656625748,\n",
       "  0.023654811084270477,\n",
       "  0.05961674079298973,\n",
       "  1.207427430927055e-05,\n",
       "  0.04597144201397896,\n",
       "  0.014839624986052513,\n",
       "  0.06921922415494919],\n",
       " 'accuracy': [0.8565573692321777,\n",
       "  0.9139344096183777,\n",
       "  0.9467213153839111,\n",
       "  0.9713114500045776,\n",
       "  0.9590163826942444,\n",
       "  1.0,\n",
       "  0.9754098653793335,\n",
       "  0.9795082211494446,\n",
       "  0.9877049326896667,\n",
       "  0.9959016442298889,\n",
       "  0.9836065769195557,\n",
       "  0.9959016442298889,\n",
       "  0.9959016442298889,\n",
       "  0.9959016442298889,\n",
       "  0.9836065769195557,\n",
       "  0.9959016442298889,\n",
       "  0.9959016442298889,\n",
       "  1.0,\n",
       "  0.9959016442298889,\n",
       "  0.9959016442298889,\n",
       "  0.9918032884597778,\n",
       "  1.0,\n",
       "  0.9877049326896667,\n",
       "  0.9959016442298889,\n",
       "  0.9918032884597778],\n",
       " 'val_loss': [2.3947296142578125,\n",
       "  1.664407730102539,\n",
       "  3.0807602405548096,\n",
       "  2.3075132369995117,\n",
       "  1.9075989723205566,\n",
       "  1.8515032529830933,\n",
       "  2.3103718757629395,\n",
       "  1.8512297868728638,\n",
       "  1.9229185581207275,\n",
       "  2.0443601608276367,\n",
       "  1.8423924446105957,\n",
       "  1.9011659622192383,\n",
       "  2.045768976211548,\n",
       "  1.9245431423187256,\n",
       "  1.916349172592163,\n",
       "  1.9067951440811157,\n",
       "  1.890642762184143,\n",
       "  1.8883610963821411,\n",
       "  1.8991304636001587,\n",
       "  1.8916442394256592,\n",
       "  1.9064903259277344,\n",
       "  1.906590223312378,\n",
       "  1.9053875207901,\n",
       "  1.9043768644332886,\n",
       "  1.9044320583343506],\n",
       " 'val_accuracy': [0.9281045794487,\n",
       "  0.9411764740943909,\n",
       "  0.915032684803009,\n",
       "  0.9281045794487,\n",
       "  0.9477124214172363,\n",
       "  0.9542483687400818,\n",
       "  0.9411764740943909,\n",
       "  0.9411764740943909,\n",
       "  0.9411764740943909,\n",
       "  0.9411764740943909,\n",
       "  0.9411764740943909,\n",
       "  0.9411764740943909,\n",
       "  0.9411764740943909,\n",
       "  0.9411764740943909,\n",
       "  0.9411764740943909,\n",
       "  0.9411764740943909,\n",
       "  0.9411764740943909,\n",
       "  0.9411764740943909,\n",
       "  0.9411764740943909,\n",
       "  0.9411764740943909,\n",
       "  0.9411764740943909,\n",
       "  0.9411764740943909,\n",
       "  0.9411764740943909,\n",
       "  0.9411764740943909,\n",
       "  0.9411764740943909],\n",
       " 'lr': [0.01,\n",
       "  0.01,\n",
       "  0.01,\n",
       "  0.01,\n",
       "  0.01,\n",
       "  0.01,\n",
       "  0.01,\n",
       "  0.0009999999,\n",
       "  0.0009999999,\n",
       "  0.0009999999,\n",
       "  0.0009999999,\n",
       "  0.0009999999,\n",
       "  0.0009999999,\n",
       "  0.0009999999,\n",
       "  9.999999e-05,\n",
       "  9.999999e-05,\n",
       "  9.999999e-05,\n",
       "  9.999999e-05,\n",
       "  9.999999e-05,\n",
       "  9.999999e-05,\n",
       "  9.999999e-05,\n",
       "  9.999999e-06,\n",
       "  9.999999e-06,\n",
       "  9.999999e-06,\n",
       "  9.999999e-06]}"
      ]
     },
     "execution_count": 20,
     "metadata": {},
     "output_type": "execute_result"
    }
   ],
   "source": [
    "history.history"
   ]
  },
  {
   "cell_type": "code",
   "execution_count": 21,
   "id": "5b7dbbf7",
   "metadata": {
    "execution": {
     "iopub.execute_input": "2023-11-30T13:00:41.841557Z",
     "iopub.status.busy": "2023-11-30T13:00:41.841175Z",
     "iopub.status.idle": "2023-11-30T13:00:42.309537Z",
     "shell.execute_reply": "2023-11-30T13:00:42.308669Z"
    },
    "papermill": {
     "duration": 0.737351,
     "end_time": "2023-11-30T13:00:42.311933",
     "exception": false,
     "start_time": "2023-11-30T13:00:41.574582",
     "status": "completed"
    },
    "tags": []
   },
   "outputs": [
    {
     "name": "stderr",
     "output_type": "stream",
     "text": [
      "/opt/conda/lib/python3.10/site-packages/keras/src/engine/training.py:3000: UserWarning: You are saving your model as an HDF5 file via `model.save()`. This file format is considered legacy. We recommend using instead the native Keras format, e.g. `model.save('my_model.keras')`.\n",
      "  saving_api.save_model(\n"
     ]
    }
   ],
   "source": [
    "# model.save(\"path/to/location\")"
   ]
  },
  {
   "cell_type": "markdown",
   "id": "4932dad1",
   "metadata": {
    "papermill": {
     "duration": 0.309979,
     "end_time": "2023-11-30T13:00:44.287600",
     "exception": false,
     "start_time": "2023-11-30T13:00:43.977621",
     "status": "completed"
    },
    "tags": []
   },
   "source": [
    "## Revamp"
   ]
  },
  {
   "cell_type": "code",
   "execution_count": 23,
   "id": "ac29a91b",
   "metadata": {
    "execution": {
     "iopub.execute_input": "2023-11-30T13:00:44.845657Z",
     "iopub.status.busy": "2023-11-30T13:00:44.844789Z",
     "iopub.status.idle": "2023-11-30T13:00:44.852616Z",
     "shell.execute_reply": "2023-11-30T13:00:44.851429Z"
    },
    "papermill": {
     "duration": 0.297385,
     "end_time": "2023-11-30T13:00:44.855404",
     "exception": false,
     "start_time": "2023-11-30T13:00:44.558019",
     "status": "completed"
    },
    "tags": []
   },
   "outputs": [],
   "source": [
    "import tensorflow as tf\n",
    "from tensorflow.keras import Model\n",
    "from tensorflow.keras.layers import Activation, Dropout,Flatten,Conv2D,BatchNormalization,MaxPooling2D,Input,GlobalAveragePooling2D,Dense, AveragePooling2D\n",
    "from tensorflow.keras.activations import relu\n",
    "from tensorflow.keras.preprocessing.image import ImageDataGenerator\n",
    "import keras\n",
    "from tensorflow.keras.applications.resnet50 import preprocess_input\n",
    "from matplotlib import pyplot"
   ]
  },
  {
   "cell_type": "code",
   "execution_count": 24,
   "id": "401e22ab",
   "metadata": {
    "execution": {
     "iopub.execute_input": "2023-11-30T13:00:45.393155Z",
     "iopub.status.busy": "2023-11-30T13:00:45.392079Z",
     "iopub.status.idle": "2023-11-30T13:00:45.402125Z",
     "shell.execute_reply": "2023-11-30T13:00:45.401401Z"
    },
    "papermill": {
     "duration": 0.28172,
     "end_time": "2023-11-30T13:00:45.404198",
     "exception": false,
     "start_time": "2023-11-30T13:00:45.122478",
     "status": "completed"
    },
    "tags": []
   },
   "outputs": [],
   "source": [
    "class Block_2(Model):\n",
    "    def __init__(self,input_channels,output_channels,use_conv=False,identity_strides=1):\n",
    "        super().__init__()\n",
    "        self.conv1=Conv2D(input_channels,kernel_size=1,strides=identity_strides)\n",
    "        self.conv2=Conv2D(input_channels,kernel_size=3,strides=1,padding='same')\n",
    "        self.conv3=Conv2D(output_channels,kernel_size=1,strides=1,padding='same')\n",
    "        self.conv_identity=None\n",
    "        if use_conv:\n",
    "            self.conv_identity=Conv2D(output_channels,kernel_size=1,strides=identity_strides,padding='same')\n",
    "            \n",
    "        self.bn1=BatchNormalization()\n",
    "        self.bn2=BatchNormalization()\n",
    "        self.bn3=BatchNormalization()\n",
    "        self.bn_identity =BatchNormalization()\n",
    "        \n",
    "    def call(self,X):\n",
    "        #Traditional residuals\n",
    "        Y=self.conv1(X)\n",
    "        Y = self.bn1(Y)\n",
    "        Y= relu(Y)\n",
    "        \n",
    "        Y=self.conv2(Y)\n",
    "        Y = self.bn2(Y)\n",
    "        Y= relu(Y)\n",
    "        \n",
    "        Y=self.conv3(Y)\n",
    "        Y = self.bn3(Y)\n",
    "        Y= relu(Y)\n",
    "        \n",
    "        if self.conv_identity is not None:\n",
    "            X=self.conv_identity(X)\n",
    "            X=self.bn_identity(X)\n",
    "        \n",
    "        Y+=X\n",
    "        Y=relu(Y)\n",
    "        return Y"
   ]
  },
  {
   "cell_type": "code",
   "execution_count": null,
   "id": "3a3ea3c3",
   "metadata": {
    "papermill": {
     "duration": 0.268718,
     "end_time": "2023-11-30T13:00:45.943719",
     "exception": false,
     "start_time": "2023-11-30T13:00:45.675001",
     "status": "completed"
    },
    "tags": []
   },
   "outputs": [],
   "source": []
  },
  {
   "cell_type": "code",
   "execution_count": 25,
   "id": "e492fbc8",
   "metadata": {
    "execution": {
     "iopub.execute_input": "2023-11-30T13:00:46.520958Z",
     "iopub.status.busy": "2023-11-30T13:00:46.520237Z",
     "iopub.status.idle": "2023-11-30T13:00:46.532931Z",
     "shell.execute_reply": "2023-11-30T13:00:46.532016Z"
    },
    "papermill": {
     "duration": 0.325706,
     "end_time": "2023-11-30T13:00:46.534860",
     "exception": false,
     "start_time": "2023-11-30T13:00:46.209154",
     "status": "completed"
    },
    "tags": []
   },
   "outputs": [],
   "source": [
    "from tensorflow.keras import backend\n",
    "from tensorflow.keras import optimizers, losses, initializers\n",
    "from tensorflow.keras.activations import relu\n",
    "def ResNet50_2(input_shape=(224, 224, 3), input_tensor=None,classes=1000):\n",
    "    if input_tensor is None:\n",
    "        X_input = Input(shape=input_shape)\n",
    "    else:\n",
    "        if not backend.is_keras_tensor(input_tensor):\n",
    "            X_input = Input(tensor=input_tensor, shape=input_shape)\n",
    "        else:\n",
    "            X_input = input_tensor\n",
    "    #Stage1        \n",
    "    X=Conv2D(filters=64,kernel_size=7,strides=2,padding='same')(X_input)\n",
    "    X= BatchNormalization()(X)\n",
    "    X=relu(X)\n",
    "    X= MaxPooling2D(pool_size=3, strides=2, padding='same')(X)\n",
    "    \n",
    "    #Stage2\n",
    "    X=Block_2(64,256,True,1)(X)\n",
    "    X=Block_2(64,256,False)(X)\n",
    "    X=Block_2(64,256,False)(X)\n",
    "    \n",
    "    #Stage3\n",
    "    X=Block_2(128,512,True,2)(X)\n",
    "    X=Block_2(128,512,False)(X)\n",
    "    X=Block_2(128,512,False)(X)\n",
    "    \n",
    "    #Stage4\n",
    "    X=Block_2(256,1024,True,2)(X)\n",
    "    X=Block_2(256,1024,False)(X)\n",
    "    X=Block_2(256,1024,False)(X)\n",
    "    X=Block_2(256,1024,False)(X)\n",
    "    X=Block_2(256,1024,False)(X)\n",
    "    X=Block_2(256,1024,False)(X)\n",
    "    \n",
    "    #Stage5\n",
    "    X=Block_2(512,2048,True,2)(X)\n",
    "    X=Block_2(512,2048,False)(X)\n",
    "    X=Block_2(512,2048,False)(X)\n",
    "    \n",
    "    \n",
    "    X=AveragePooling2D((2, 2))(X)\n",
    "    X = Flatten()(X)\n",
    "    \n",
    "    #Fully-Connected\n",
    "    X=Dense(classes,activation='softmax')(X)\n",
    "\n",
    "    model = Model(inputs = X_input, outputs = X, name='ResNet50')\n",
    "    return model"
   ]
  },
  {
   "cell_type": "code",
   "execution_count": 26,
   "id": "d03e007d",
   "metadata": {
    "execution": {
     "iopub.execute_input": "2023-11-30T13:00:47.069216Z",
     "iopub.status.busy": "2023-11-30T13:00:47.068832Z",
     "iopub.status.idle": "2023-11-30T13:00:48.170123Z",
     "shell.execute_reply": "2023-11-30T13:00:48.169222Z"
    },
    "papermill": {
     "duration": 1.369502,
     "end_time": "2023-11-30T13:00:48.172063",
     "exception": false,
     "start_time": "2023-11-30T13:00:46.802561",
     "status": "completed"
    },
    "tags": []
   },
   "outputs": [
    {
     "name": "stdout",
     "output_type": "stream",
     "text": [
      "Model: \"ResNet50\"\n",
      "_________________________________________________________________\n",
      " Layer (type)                Output Shape              Param #   \n",
      "=================================================================\n",
      " input_3 (InputLayer)        [(None, 224, 224, 3)]     0         \n",
      "                                                                 \n",
      " conv2d_54 (Conv2D)          (None, 112, 112, 64)      9472      \n",
      "                                                                 \n",
      " batch_normalization_66 (Ba  (None, 112, 112, 64)      256       \n",
      " tchNormalization)                                               \n",
      "                                                                 \n",
      " tf.nn.relu_1 (TFOpLambda)   (None, 112, 112, 64)      0         \n",
      "                                                                 \n",
      " max_pooling2d_2 (MaxPoolin  (None, 56, 56, 64)        0         \n",
      " g2D)                                                            \n",
      "                                                                 \n",
      " block_2 (Block_2)           (None, 56, 56, 256)       76928     \n",
      "                                                                 \n",
      " block_2_1 (Block_2)         (None, 56, 56, 256)       71552     \n",
      "                                                                 \n",
      " block_2_2 (Block_2)         (None, 56, 56, 256)       71552     \n",
      "                                                                 \n",
      " block_2_3 (Block_2)         (None, 28, 28, 512)       383232    \n",
      "                                                                 \n",
      " block_2_4 (Block_2)         (None, 28, 28, 512)       282368    \n",
      "                                                                 \n",
      " block_2_5 (Block_2)         (None, 28, 28, 512)       282368    \n",
      "                                                                 \n",
      " block_2_6 (Block_2)         (None, 14, 14, 1024)      1520128   \n",
      "                                                                 \n",
      " block_2_7 (Block_2)         (None, 14, 14, 1024)      1121792   \n",
      "                                                                 \n",
      " block_2_8 (Block_2)         (None, 14, 14, 1024)      1121792   \n",
      "                                                                 \n",
      " block_2_9 (Block_2)         (None, 14, 14, 1024)      1121792   \n",
      "                                                                 \n",
      " block_2_10 (Block_2)        (None, 14, 14, 1024)      1121792   \n",
      "                                                                 \n",
      " block_2_11 (Block_2)        (None, 14, 14, 1024)      1121792   \n",
      "                                                                 \n",
      " block_2_12 (Block_2)        (None, 7, 7, 2048)        6054912   \n",
      "                                                                 \n",
      " block_2_13 (Block_2)        (None, 7, 7, 2048)        4471808   \n",
      "                                                                 \n",
      " block_2_14 (Block_2)        (None, 7, 7, 2048)        4471808   \n",
      "                                                                 \n",
      " average_pooling2d (Average  (None, 3, 3, 2048)        0         \n",
      " Pooling2D)                                                      \n",
      "                                                                 \n",
      " flatten (Flatten)           (None, 18432)             0         \n",
      "                                                                 \n",
      " dense_2 (Dense)             (None, 2)                 36866     \n",
      "                                                                 \n",
      "=================================================================\n",
      "Total params: 23342210 (89.04 MB)\n",
      "Trainable params: 23290626 (88.85 MB)\n",
      "Non-trainable params: 51584 (201.50 KB)\n",
      "_________________________________________________________________\n"
     ]
    }
   ],
   "source": [
    "model = ResNet50_2(input_shape=(224,224, 3), classes=2)\n",
    "model.summary()"
   ]
  },
  {
   "cell_type": "code",
   "execution_count": null,
   "id": "c44d66d9",
   "metadata": {
    "papermill": {
     "duration": 0.26884,
     "end_time": "2023-11-30T13:00:48.708991",
     "exception": false,
     "start_time": "2023-11-30T13:00:48.440151",
     "status": "completed"
    },
    "tags": []
   },
   "outputs": [],
   "source": []
  },
  {
   "cell_type": "code",
   "execution_count": 27,
   "id": "4ebdff5b",
   "metadata": {
    "execution": {
     "iopub.execute_input": "2023-11-30T13:00:49.244422Z",
     "iopub.status.busy": "2023-11-30T13:00:49.243549Z",
     "iopub.status.idle": "2023-11-30T13:00:49.259403Z",
     "shell.execute_reply": "2023-11-30T13:00:49.258719Z"
    },
    "papermill": {
     "duration": 0.286548,
     "end_time": "2023-11-30T13:00:49.261273",
     "exception": false,
     "start_time": "2023-11-30T13:00:48.974725",
     "status": "completed"
    },
    "tags": []
   },
   "outputs": [],
   "source": [
    "# Learning rate scheduler\n",
    "def scheduler(epoch, lr):\n",
    "    if epoch % 7 == 0 and epoch:\n",
    "        return lr * 0.1\n",
    "    return lr\n",
    "\n",
    "lr_callback = keras.callbacks.LearningRateScheduler(scheduler)\n",
    "model.compile(optimizer=SGD(lr=0.001, momentum=0.9),\n",
    "              loss='sparse_categorical_crossentropy',\n",
    "              metrics=['accuracy'])"
   ]
  },
  {
   "cell_type": "code",
   "execution_count": 28,
   "id": "886aa201",
   "metadata": {
    "execution": {
     "iopub.execute_input": "2023-11-30T13:00:49.805517Z",
     "iopub.status.busy": "2023-11-30T13:00:49.805075Z",
     "iopub.status.idle": "2023-11-30T13:03:19.658654Z",
     "shell.execute_reply": "2023-11-30T13:03:19.657731Z"
    },
    "papermill": {
     "duration": 150.133692,
     "end_time": "2023-11-30T13:03:19.660825",
     "exception": false,
     "start_time": "2023-11-30T13:00:49.527133",
     "status": "completed"
    },
    "tags": []
   },
   "outputs": [
    {
     "name": "stdout",
     "output_type": "stream",
     "text": [
      "Epoch 1/25\n",
      "61/61 [==============================] - 21s 105ms/step - loss: 104.2189 - accuracy: 0.4385 - val_loss: 79021391872.0000 - val_accuracy: 0.5425 - lr: 0.0100\n",
      "Epoch 2/25\n",
      "61/61 [==============================] - 5s 87ms/step - loss: 38.1477 - accuracy: 0.4918 - val_loss: 133302.2500 - val_accuracy: 0.5359 - lr: 0.0100\n",
      "Epoch 3/25\n",
      "61/61 [==============================] - 5s 87ms/step - loss: 8.9450 - accuracy: 0.4467 - val_loss: 1197.6130 - val_accuracy: 0.5686 - lr: 0.0100\n",
      "Epoch 4/25\n",
      "61/61 [==============================] - 5s 85ms/step - loss: 5.3071 - accuracy: 0.4877 - val_loss: 606.2255 - val_accuracy: 0.5033 - lr: 0.0100\n",
      "Epoch 5/25\n",
      "61/61 [==============================] - 5s 86ms/step - loss: 4.6094 - accuracy: 0.5164 - val_loss: 8.9446 - val_accuracy: 0.5490 - lr: 0.0100\n",
      "Epoch 6/25\n",
      "61/61 [==============================] - 5s 88ms/step - loss: 2.3121 - accuracy: 0.5246 - val_loss: 9.3914 - val_accuracy: 0.4837 - lr: 0.0100\n",
      "Epoch 7/25\n",
      "61/61 [==============================] - 5s 87ms/step - loss: 1.6125 - accuracy: 0.4754 - val_loss: 21.8885 - val_accuracy: 0.5033 - lr: 0.0100\n",
      "Epoch 8/25\n",
      "61/61 [==============================] - 5s 84ms/step - loss: 2.8361 - accuracy: 0.4836 - val_loss: 30.5829 - val_accuracy: 0.5425 - lr: 1.0000e-03\n",
      "Epoch 9/25\n",
      "61/61 [==============================] - 5s 84ms/step - loss: 2.2238 - accuracy: 0.5041 - val_loss: 17.1999 - val_accuracy: 0.4706 - lr: 1.0000e-03\n",
      "Epoch 10/25\n",
      "61/61 [==============================] - 5s 85ms/step - loss: 2.5208 - accuracy: 0.4795 - val_loss: 5.2547 - val_accuracy: 0.4706 - lr: 1.0000e-03\n",
      "Epoch 11/25\n",
      "61/61 [==============================] - 5s 88ms/step - loss: 1.2014 - accuracy: 0.5205 - val_loss: 5.3736 - val_accuracy: 0.4771 - lr: 1.0000e-03\n",
      "Epoch 12/25\n",
      "61/61 [==============================] - 6s 91ms/step - loss: 0.9470 - accuracy: 0.5041 - val_loss: 4.3419 - val_accuracy: 0.5033 - lr: 1.0000e-03\n",
      "Epoch 13/25\n",
      "61/61 [==============================] - 6s 90ms/step - loss: 0.9298 - accuracy: 0.4877 - val_loss: 3.9495 - val_accuracy: 0.5294 - lr: 1.0000e-03\n",
      "Epoch 14/25\n",
      "61/61 [==============================] - 5s 86ms/step - loss: 1.0370 - accuracy: 0.5205 - val_loss: 3.0488 - val_accuracy: 0.5294 - lr: 1.0000e-03\n",
      "Epoch 15/25\n",
      "61/61 [==============================] - 5s 87ms/step - loss: 0.8348 - accuracy: 0.5000 - val_loss: 2.6892 - val_accuracy: 0.5294 - lr: 1.0000e-04\n",
      "Epoch 16/25\n",
      "61/61 [==============================] - 5s 86ms/step - loss: 0.7715 - accuracy: 0.5410 - val_loss: 2.5162 - val_accuracy: 0.5425 - lr: 1.0000e-04\n",
      "Epoch 17/25\n",
      "61/61 [==============================] - 5s 85ms/step - loss: 0.8080 - accuracy: 0.5000 - val_loss: 2.4188 - val_accuracy: 0.5425 - lr: 1.0000e-04\n",
      "Epoch 18/25\n",
      "61/61 [==============================] - 6s 90ms/step - loss: 0.8597 - accuracy: 0.4713 - val_loss: 2.1181 - val_accuracy: 0.5556 - lr: 1.0000e-04\n",
      "Epoch 19/25\n",
      "61/61 [==============================] - 5s 87ms/step - loss: 0.8608 - accuracy: 0.4877 - val_loss: 1.8132 - val_accuracy: 0.5425 - lr: 1.0000e-04\n",
      "Epoch 20/25\n",
      "61/61 [==============================] - 5s 86ms/step - loss: 0.7360 - accuracy: 0.5615 - val_loss: 1.8989 - val_accuracy: 0.5294 - lr: 1.0000e-04\n",
      "Epoch 21/25\n",
      "61/61 [==============================] - 5s 85ms/step - loss: 0.8040 - accuracy: 0.5123 - val_loss: 1.9555 - val_accuracy: 0.5425 - lr: 1.0000e-04\n",
      "Epoch 22/25\n",
      "61/61 [==============================] - 5s 85ms/step - loss: 0.7344 - accuracy: 0.5164 - val_loss: 1.9447 - val_accuracy: 0.5359 - lr: 1.0000e-05\n",
      "Epoch 23/25\n",
      "61/61 [==============================] - 5s 89ms/step - loss: 0.7792 - accuracy: 0.4795 - val_loss: 1.8673 - val_accuracy: 0.5556 - lr: 1.0000e-05\n",
      "Epoch 24/25\n",
      "61/61 [==============================] - 6s 91ms/step - loss: 0.7531 - accuracy: 0.4672 - val_loss: 1.8499 - val_accuracy: 0.5425 - lr: 1.0000e-05\n",
      "Epoch 25/25\n",
      "61/61 [==============================] - 5s 87ms/step - loss: 0.8906 - accuracy: 0.5574 - val_loss: 2.1054 - val_accuracy: 0.5229 - lr: 1.0000e-05\n"
     ]
    }
   ],
   "source": [
    "history = model.fit(\n",
    "    train_generator,\n",
    "    epochs=25,\n",
    "    validation_data=valid_generator,\n",
    "    callbacks=[lr_callback]\n",
    ")\n"
   ]
  },
  {
   "cell_type": "code",
   "execution_count": 29,
   "id": "75d55583",
   "metadata": {
    "execution": {
     "iopub.execute_input": "2023-11-30T13:03:20.511714Z",
     "iopub.status.busy": "2023-11-30T13:03:20.510797Z",
     "iopub.status.idle": "2023-11-30T13:03:21.208725Z",
     "shell.execute_reply": "2023-11-30T13:03:21.207861Z"
    },
    "papermill": {
     "duration": 1.151576,
     "end_time": "2023-11-30T13:03:21.211859",
     "exception": false,
     "start_time": "2023-11-30T13:03:20.060283",
     "status": "completed"
    },
    "tags": []
   },
   "outputs": [
    {
     "data": {
      "image/png": "[encoded data removed]",
      "text/plain": [
       "<Figure size 1000x1000 with 2 Axes>"
      ]
     },
     "metadata": {},
     "output_type": "display_data"
    }
   ],
   "source": [
    " pyplot.figure(figsize=(10,10))\n",
    " pyplot.subplot(211)\n",
    " pyplot.title('Sparse Categorical Crossentropy Loss')\n",
    " pyplot.plot(history.history['loss'], color='blue', label='train')\n",
    " pyplot.plot(history.history['val_loss'], color='orange', label='test')\n",
    " # plot accuracy\n",
    " pyplot.subplot(212)\n",
    " pyplot.title('Classification Accuracy')\n",
    " pyplot.plot(history.history['accuracy'], color='blue', label='train')\n",
    " pyplot.plot(history.history['val_accuracy'], color='orange', label='test')\n",
    " # save plot to file\n",
    " filename = 'output2'\n",
    " pyplot.savefig('/kaggle/working/'+filename + '_plot.png')\n",
    " pyplot.show()"
   ]
  },
  {
   "cell_type": "code",
   "execution_count": 30,
   "id": "91bce68e",
   "metadata": {
    "execution": {
     "iopub.execute_input": "2023-11-30T13:03:22.001654Z",
     "iopub.status.busy": "2023-11-30T13:03:22.000772Z",
     "iopub.status.idle": "2023-11-30T13:05:35.769500Z",
     "shell.execute_reply": "2023-11-30T13:05:35.768642Z"
    },
    "papermill": {
     "duration": 134.166028,
     "end_time": "2023-11-30T13:05:35.771864",
     "exception": false,
     "start_time": "2023-11-30T13:03:21.605836",
     "status": "completed"
    },
    "tags": []
   },
   "outputs": [
    {
     "name": "stdout",
     "output_type": "stream",
     "text": [
      "Epoch 1/25\n",
      "61/61 [==============================] - 5s 88ms/step - loss: 0.7873 - accuracy: 0.5082 - val_loss: 2.0235 - val_accuracy: 0.5359 - lr: 1.0000e-05\n",
      "Epoch 2/25\n",
      "61/61 [==============================] - 5s 84ms/step - loss: 0.7902 - accuracy: 0.4918 - val_loss: 2.0236 - val_accuracy: 0.5229 - lr: 1.0000e-05\n",
      "Epoch 3/25\n",
      "61/61 [==============================] - 5s 85ms/step - loss: 0.7534 - accuracy: 0.5164 - val_loss: 2.0301 - val_accuracy: 0.5359 - lr: 1.0000e-05\n",
      "Epoch 4/25\n",
      "61/61 [==============================] - 5s 90ms/step - loss: 0.7164 - accuracy: 0.4959 - val_loss: 2.1514 - val_accuracy: 0.5229 - lr: 1.0000e-05\n",
      "Epoch 5/25\n",
      "61/61 [==============================] - 5s 87ms/step - loss: 0.8259 - accuracy: 0.5164 - val_loss: 2.0575 - val_accuracy: 0.5098 - lr: 1.0000e-05\n",
      "Epoch 6/25\n",
      "61/61 [==============================] - 5s 86ms/step - loss: 0.8372 - accuracy: 0.5205 - val_loss: 2.0441 - val_accuracy: 0.5359 - lr: 1.0000e-05\n",
      "Epoch 7/25\n",
      "61/61 [==============================] - 5s 84ms/step - loss: 0.7950 - accuracy: 0.5287 - val_loss: 2.0212 - val_accuracy: 0.5490 - lr: 1.0000e-05\n",
      "Epoch 8/25\n",
      "61/61 [==============================] - 5s 86ms/step - loss: 0.7802 - accuracy: 0.5000 - val_loss: 1.9315 - val_accuracy: 0.5556 - lr: 1.0000e-06\n",
      "Epoch 9/25\n",
      "61/61 [==============================] - 5s 88ms/step - loss: 0.7694 - accuracy: 0.5123 - val_loss: 2.0828 - val_accuracy: 0.5229 - lr: 1.0000e-06\n",
      "Epoch 10/25\n",
      "61/61 [==============================] - 5s 90ms/step - loss: 0.8482 - accuracy: 0.5123 - val_loss: 2.0559 - val_accuracy: 0.5229 - lr: 1.0000e-06\n",
      "Epoch 11/25\n",
      "61/61 [==============================] - 5s 87ms/step - loss: 0.7692 - accuracy: 0.4631 - val_loss: 1.9705 - val_accuracy: 0.5359 - lr: 1.0000e-06\n",
      "Epoch 12/25\n",
      "61/61 [==============================] - 5s 87ms/step - loss: 0.9030 - accuracy: 0.5164 - val_loss: 1.9427 - val_accuracy: 0.5425 - lr: 1.0000e-06\n",
      "Epoch 13/25\n",
      "61/61 [==============================] - 5s 84ms/step - loss: 0.8488 - accuracy: 0.4959 - val_loss: 2.0346 - val_accuracy: 0.5294 - lr: 1.0000e-06\n",
      "Epoch 14/25\n",
      "61/61 [==============================] - 5s 85ms/step - loss: 0.7566 - accuracy: 0.5205 - val_loss: 1.9179 - val_accuracy: 0.5425 - lr: 1.0000e-06\n",
      "Epoch 15/25\n",
      "61/61 [==============================] - 5s 87ms/step - loss: 0.7702 - accuracy: 0.4836 - val_loss: 1.9334 - val_accuracy: 0.5425 - lr: 1.0000e-07\n",
      "Epoch 16/25\n",
      "61/61 [==============================] - 5s 88ms/step - loss: 0.8182 - accuracy: 0.5123 - val_loss: 2.1182 - val_accuracy: 0.5359 - lr: 1.0000e-07\n",
      "Epoch 17/25\n",
      "61/61 [==============================] - 5s 87ms/step - loss: 0.7989 - accuracy: 0.4385 - val_loss: 1.9640 - val_accuracy: 0.5359 - lr: 1.0000e-07\n",
      "Epoch 18/25\n",
      "61/61 [==============================] - 5s 86ms/step - loss: 0.8448 - accuracy: 0.5082 - val_loss: 1.8527 - val_accuracy: 0.5490 - lr: 1.0000e-07\n",
      "Epoch 19/25\n",
      "61/61 [==============================] - 5s 88ms/step - loss: 0.7769 - accuracy: 0.5082 - val_loss: 1.8964 - val_accuracy: 0.5294 - lr: 1.0000e-07\n",
      "Epoch 20/25\n",
      "61/61 [==============================] - 5s 86ms/step - loss: 0.8872 - accuracy: 0.5164 - val_loss: 1.9456 - val_accuracy: 0.5359 - lr: 1.0000e-07\n",
      "Epoch 21/25\n",
      "61/61 [==============================] - 5s 88ms/step - loss: 0.8080 - accuracy: 0.4631 - val_loss: 1.9627 - val_accuracy: 0.5425 - lr: 1.0000e-07\n",
      "Epoch 22/25\n",
      "61/61 [==============================] - 5s 89ms/step - loss: 0.7976 - accuracy: 0.5369 - val_loss: 2.2427 - val_accuracy: 0.5229 - lr: 1.0000e-08\n",
      "Epoch 23/25\n",
      "61/61 [==============================] - 5s 88ms/step - loss: 0.8101 - accuracy: 0.5287 - val_loss: 2.2445 - val_accuracy: 0.5098 - lr: 1.0000e-08\n",
      "Epoch 24/25\n",
      "61/61 [==============================] - 5s 85ms/step - loss: 0.7707 - accuracy: 0.5123 - val_loss: 2.1571 - val_accuracy: 0.5229 - lr: 1.0000e-08\n",
      "Epoch 25/25\n",
      "61/61 [==============================] - 5s 86ms/step - loss: 0.7701 - accuracy: 0.5205 - val_loss: 1.9672 - val_accuracy: 0.5359 - lr: 1.0000e-08\n"
     ]
    }
   ],
   "source": [
    "history = model.fit(\n",
    "    train_generator,\n",
    "    epochs=25,\n",
    "    validation_data=valid_generator,\n",
    "    callbacks=[lr_callback]\n",
    ")"
   ]
  },
  {
   "cell_type": "code",
   "execution_count": 31,
   "id": "ef64032c",
   "metadata": {
    "execution": {
     "iopub.execute_input": "2023-11-30T13:05:36.823685Z",
     "iopub.status.busy": "2023-11-30T13:05:36.823332Z",
     "iopub.status.idle": "2023-11-30T13:05:36.831305Z",
     "shell.execute_reply": "2023-11-30T13:05:36.830444Z"
    },
    "papermill": {
     "duration": 0.537418,
     "end_time": "2023-11-30T13:05:36.833395",
     "exception": false,
     "start_time": "2023-11-30T13:05:36.295977",
     "status": "completed"
    },
    "tags": []
   },
   "outputs": [
    {
     "data": {
      "text/plain": [
       "{'loss': [0.7872961759567261,\n",
       "  0.7901881337165833,\n",
       "  0.7533836960792542,\n",
       "  0.7164063453674316,\n",
       "  0.8258869647979736,\n",
       "  0.8371686339378357,\n",
       "  0.7949627041816711,\n",
       "  0.7801616191864014,\n",
       "  0.769418478012085,\n",
       "  0.8481940627098083,\n",
       "  0.7691701650619507,\n",
       "  0.9030331373214722,\n",
       "  0.8487513661384583,\n",
       "  0.7566442489624023,\n",
       "  0.7702319622039795,\n",
       "  0.8182047009468079,\n",
       "  0.798949122428894,\n",
       "  0.844809353351593,\n",
       "  0.7768710851669312,\n",
       "  0.8871915340423584,\n",
       "  0.808044970035553,\n",
       "  0.7975834012031555,\n",
       "  0.810073733329773,\n",
       "  0.7706983685493469,\n",
       "  0.7700796127319336],\n",
       " 'accuracy': [0.5081967115402222,\n",
       "  0.49180328845977783,\n",
       "  0.5163934230804443,\n",
       "  0.4959016442298889,\n",
       "  0.5163934230804443,\n",
       "  0.5204917788505554,\n",
       "  0.5286885499954224,\n",
       "  0.5,\n",
       "  0.5122950673103333,\n",
       "  0.5122950673103333,\n",
       "  0.46311476826667786,\n",
       "  0.5163934230804443,\n",
       "  0.4959016442298889,\n",
       "  0.5204917788505554,\n",
       "  0.4836065471172333,\n",
       "  0.5122950673103333,\n",
       "  0.43852460384368896,\n",
       "  0.5081967115402222,\n",
       "  0.5081967115402222,\n",
       "  0.5163934230804443,\n",
       "  0.46311476826667786,\n",
       "  0.5368852615356445,\n",
       "  0.5286885499954224,\n",
       "  0.5122950673103333,\n",
       "  0.5204917788505554],\n",
       " 'val_loss': [2.0235366821289062,\n",
       "  2.023644208908081,\n",
       "  2.0301082134246826,\n",
       "  2.151381731033325,\n",
       "  2.0575029850006104,\n",
       "  2.044076442718506,\n",
       "  2.021190881729126,\n",
       "  1.931533694267273,\n",
       "  2.0828075408935547,\n",
       "  2.0558834075927734,\n",
       "  1.970537781715393,\n",
       "  1.9426865577697754,\n",
       "  2.034595489501953,\n",
       "  1.917861819267273,\n",
       "  1.9333525896072388,\n",
       "  2.118192195892334,\n",
       "  1.963966965675354,\n",
       "  1.8527401685714722,\n",
       "  1.8963736295700073,\n",
       "  1.9456473588943481,\n",
       "  1.962728500366211,\n",
       "  2.2426838874816895,\n",
       "  2.2445075511932373,\n",
       "  2.157147169113159,\n",
       "  1.9672377109527588],\n",
       " 'val_accuracy': [0.5359477400779724,\n",
       "  0.5228758454322815,\n",
       "  0.5359477400779724,\n",
       "  0.5228758454322815,\n",
       "  0.5098039507865906,\n",
       "  0.5359477400779724,\n",
       "  0.5490196347236633,\n",
       "  0.5555555820465088,\n",
       "  0.5228758454322815,\n",
       "  0.5228758454322815,\n",
       "  0.5359477400779724,\n",
       "  0.5424836874008179,\n",
       "  0.529411792755127,\n",
       "  0.5424836874008179,\n",
       "  0.5424836874008179,\n",
       "  0.5359477400779724,\n",
       "  0.5359477400779724,\n",
       "  0.5490196347236633,\n",
       "  0.529411792755127,\n",
       "  0.5359477400779724,\n",
       "  0.5424836874008179,\n",
       "  0.5228758454322815,\n",
       "  0.5098039507865906,\n",
       "  0.5228758454322815,\n",
       "  0.5359477400779724],\n",
       " 'lr': [9.999999e-06,\n",
       "  9.999999e-06,\n",
       "  9.999999e-06,\n",
       "  9.999999e-06,\n",
       "  9.999999e-06,\n",
       "  9.999999e-06,\n",
       "  9.999999e-06,\n",
       "  9.999999e-07,\n",
       "  9.999999e-07,\n",
       "  9.999999e-07,\n",
       "  9.999999e-07,\n",
       "  9.999999e-07,\n",
       "  9.999999e-07,\n",
       "  9.999999e-07,\n",
       "  9.999999e-08,\n",
       "  9.999999e-08,\n",
       "  9.999999e-08,\n",
       "  9.999999e-08,\n",
       "  9.999999e-08,\n",
       "  9.999999e-08,\n",
       "  9.999999e-08,\n",
       "  9.999999e-09,\n",
       "  9.999999e-09,\n",
       "  9.999999e-09,\n",
       "  9.999999e-09]}"
      ]
     },
     "execution_count": 31,
     "metadata": {},
     "output_type": "execute_result"
    }
   ],
   "source": [
    "history.history"
   ]
  },
  {
   "cell_type": "markdown",
   "metadata": {},
   "source": [
    "# Make the prediction from trainded model"
   ]
  },
  {
   "cell_type": "code",
   "execution_count": null,
   "metadata": {},
   "outputs": [],
   "source": [
    "dic=train_generator.class_indices\n",
    "icd={k:v for v,k in dic.items()}\n",
    "\n",
    "# make a prediction for a new image.\n",
    "from keras.utils import load_img\n",
    "from keras.utils import img_to_array\n",
    "from keras.models import load_model\n",
    "from matplotlib import pyplot as plt\n",
    "import numpy as np\n",
    "\n",
    "# load and prepare the image\n",
    "def load_image(filename):\n",
    "    # load the image\n",
    "    img = load_img(filename, target_size=(224, 224))\n",
    "    plt.imshow(img)\n",
    "    # convert to array\n",
    "    img = img_to_array(img)\n",
    "    img = img.reshape(1, 224, 224, 3)\n",
    "    # center pixel data\n",
    "    img = img.astype('float32')\n",
    "    img = img/255.0\n",
    "    return img\n",
    "\n",
    "# load an image and predict the class\n",
    "def predict_print():\n",
    "    # load the image\n",
    "    img = load_image('test/WILLOW PTARMIGAN/5.jpg')\n",
    "    # load model\n",
    "    model = load_model('models/ant-bee-25epochs.h5', custom_objects={'Block': Block})\n",
    "    # predict the class\n",
    "    result = model.predict(img)\n",
    "    print(icd[result[0].tolist().index(max(result[0]))])    \n",
    "# entry point, run the example\n",
    "\n",
    "predict_print()"
   ]
  }
 ],
 "metadata": {
  "kaggle": {
   "accelerator": "nvidiaTeslaT4",
   "dataSources": [
    {
     "datasetId": 2162842,
     "sourceId": 3608460,
     "sourceType": "datasetVersion"
    }
   ],
   "dockerImageVersionId": 30588,
   "isGpuEnabled": true,
   "isInternetEnabled": true,
   "language": "python",
   "sourceType": "notebook"
  },
  "kernelspec": {
   "display_name": "Python 3",
   "language": "python",
   "name": "python3"
  },
  "language_info": {
   "codemirror_mode": {
    "name": "ipython",
    "version": 3
   },
   "file_extension": ".py",
   "mimetype": "text/x-python",
   "name": "python",
   "nbconvert_exporter": "python",
   "pygments_lexer": "ipython3",
   "version": "3.10.12"
  },
  "papermill": {
   "default_parameters": {},
   "duration": 1113.384822,
   "end_time": "2023-11-30T13:05:41.966593",
   "environment_variables": {},
   "exception": null,
   "input_path": "__notebook__.ipynb",
   "output_path": "__notebook__.ipynb",
   "parameters": {},
   "start_time": "2023-11-30T12:47:08.581771",
   "version": "2.4.0"
  }
 },
 "nbformat": 4,
 "nbformat_minor": 5
}
